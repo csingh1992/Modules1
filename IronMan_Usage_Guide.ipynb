{
  "nbformat": 4,
  "nbformat_minor": 0,
  "metadata": {
    "colab": {
      "name": "IronMan Usage Guide.ipynb",
      "provenance": [],
      "collapsed_sections": []
    },
    "kernelspec": {
      "name": "python3",
      "display_name": "Python 3"
    },
    "widgets": {
      "application/vnd.jupyter.widget-state+json": {
        "9a89fb01e3b7456eb90b17cb94636f3a": {
          "model_module": "@jupyter-widgets/controls",
          "model_name": "VBoxModel",
          "state": {
            "_view_name": "VBoxView",
            "_dom_classes": [
              "widget-interact"
            ],
            "_model_name": "VBoxModel",
            "_view_module": "@jupyter-widgets/controls",
            "_model_module_version": "1.5.0",
            "_view_count": null,
            "_view_module_version": "1.5.0",
            "box_style": "",
            "layout": "IPY_MODEL_4dc9907da17e41ec8134ec46feafa529",
            "_model_module": "@jupyter-widgets/controls",
            "children": [
              "IPY_MODEL_c083605dd326425a992d1f8b8eb033ca",
              "IPY_MODEL_7ef42e0732d04e92a7bb1ad1b466a43b",
              "IPY_MODEL_f8393589a96744f48c7541704e5209f3"
            ]
          }
        },
        "4dc9907da17e41ec8134ec46feafa529": {
          "model_module": "@jupyter-widgets/base",
          "model_name": "LayoutModel",
          "state": {
            "_view_name": "LayoutView",
            "grid_template_rows": null,
            "right": null,
            "justify_content": null,
            "_view_module": "@jupyter-widgets/base",
            "overflow": null,
            "_model_module_version": "1.2.0",
            "_view_count": null,
            "flex_flow": null,
            "width": null,
            "min_width": null,
            "border": null,
            "align_items": null,
            "bottom": null,
            "_model_module": "@jupyter-widgets/base",
            "top": null,
            "grid_column": null,
            "overflow_y": null,
            "overflow_x": null,
            "grid_auto_flow": null,
            "grid_area": null,
            "grid_template_columns": null,
            "flex": null,
            "_model_name": "LayoutModel",
            "justify_items": null,
            "grid_row": null,
            "max_height": null,
            "align_content": null,
            "visibility": null,
            "align_self": null,
            "height": null,
            "min_height": null,
            "padding": null,
            "grid_auto_rows": null,
            "grid_gap": null,
            "max_width": null,
            "order": null,
            "_view_module_version": "1.2.0",
            "grid_template_areas": null,
            "object_position": null,
            "object_fit": null,
            "grid_auto_columns": null,
            "margin": null,
            "display": null,
            "left": null
          }
        },
        "c083605dd326425a992d1f8b8eb033ca": {
          "model_module": "@jupyter-widgets/controls",
          "model_name": "DropdownModel",
          "state": {
            "_options_labels": [
              "0.01",
              "0.02",
              "0.03",
              "0.04",
              "0.05",
              "0.06",
              "0.07",
              "0.08",
              "0.09",
              "0.1",
              "0.11",
              "0.12",
              "0.13",
              "0.14",
              "0.15",
              "0.16",
              "0.17",
              "0.18",
              "0.19",
              "0.2",
              "0.21",
              "0.22",
              "0.23",
              "0.24",
              "0.25",
              "0.26",
              "0.27",
              "0.28",
              "0.29",
              "0.3",
              "0.31",
              "0.32",
              "0.33",
              "0.34",
              "0.35",
              "0.36",
              "0.37",
              "0.38",
              "0.39",
              "0.4",
              "0.41",
              "0.42",
              "0.43",
              "0.44",
              "0.45",
              "0.46",
              "0.47",
              "0.48",
              "0.49",
              "0.5",
              "0.51",
              "0.52",
              "0.53",
              "0.54",
              "0.55",
              "0.56",
              "0.57",
              "0.58",
              "0.59",
              "0.6",
              "0.61",
              "0.62",
              "0.63",
              "0.64",
              "0.65",
              "0.66",
              "0.67",
              "0.68",
              "0.69",
              "0.7",
              "0.71",
              "0.72",
              "0.73",
              "0.74",
              "0.75",
              "0.76",
              "0.77",
              "0.78",
              "0.79",
              "0.8",
              "0.81",
              "0.82",
              "0.83",
              "0.84",
              "0.85",
              "0.86",
              "0.87",
              "0.88",
              "0.89",
              "0.9",
              "0.91",
              "0.92",
              "0.93",
              "0.94",
              "0.95",
              "0.96",
              "0.97",
              "0.98",
              "0.99",
              "1.0"
            ],
            "_view_name": "DropdownView",
            "style": "IPY_MODEL_1c07f479b93845818f6f185be00d0036",
            "_dom_classes": [],
            "description": "threshold",
            "_model_name": "DropdownModel",
            "index": 49,
            "_view_module": "@jupyter-widgets/controls",
            "_model_module_version": "1.5.0",
            "_view_count": null,
            "disabled": false,
            "_view_module_version": "1.5.0",
            "description_tooltip": null,
            "_model_module": "@jupyter-widgets/controls",
            "layout": "IPY_MODEL_3f8add9ef6424a3fbfe7bb4cc95e739c"
          }
        },
        "7ef42e0732d04e92a7bb1ad1b466a43b": {
          "model_module": "@jupyter-widgets/controls",
          "model_name": "DropdownModel",
          "state": {
            "_options_labels": [
              "Yes",
              "No"
            ],
            "_view_name": "DropdownView",
            "style": "IPY_MODEL_79fa4d9a8c934aceab1093320a48bae8",
            "_dom_classes": [],
            "description": "normalize",
            "_model_name": "DropdownModel",
            "index": 0,
            "_view_module": "@jupyter-widgets/controls",
            "_model_module_version": "1.5.0",
            "_view_count": null,
            "disabled": false,
            "_view_module_version": "1.5.0",
            "description_tooltip": null,
            "_model_module": "@jupyter-widgets/controls",
            "layout": "IPY_MODEL_5f07b422091540978bf4fb1516ff40c5"
          }
        },
        "f8393589a96744f48c7541704e5209f3": {
          "model_module": "@jupyter-widgets/output",
          "model_name": "OutputModel",
          "state": {
            "_view_name": "OutputView",
            "msg_id": "",
            "_dom_classes": [],
            "_model_name": "OutputModel",
            "outputs": [
              {
                "output_type": "display_data",
                "metadata": {
                  "tags": []
                },
                "image/png": "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\n",
                "text/plain": "<Figure size 576x432 with 2 Axes>"
              }
            ],
            "_view_module": "@jupyter-widgets/output",
            "_model_module_version": "1.0.0",
            "_view_count": null,
            "_view_module_version": "1.0.0",
            "layout": "IPY_MODEL_276e6afd7ab9423b9c2b9b872c5a5d03",
            "_model_module": "@jupyter-widgets/output"
          }
        },
        "1c07f479b93845818f6f185be00d0036": {
          "model_module": "@jupyter-widgets/controls",
          "model_name": "DescriptionStyleModel",
          "state": {
            "_view_name": "StyleView",
            "_model_name": "DescriptionStyleModel",
            "description_width": "",
            "_view_module": "@jupyter-widgets/base",
            "_model_module_version": "1.5.0",
            "_view_count": null,
            "_view_module_version": "1.2.0",
            "_model_module": "@jupyter-widgets/controls"
          }
        },
        "3f8add9ef6424a3fbfe7bb4cc95e739c": {
          "model_module": "@jupyter-widgets/base",
          "model_name": "LayoutModel",
          "state": {
            "_view_name": "LayoutView",
            "grid_template_rows": null,
            "right": null,
            "justify_content": null,
            "_view_module": "@jupyter-widgets/base",
            "overflow": null,
            "_model_module_version": "1.2.0",
            "_view_count": null,
            "flex_flow": null,
            "width": null,
            "min_width": null,
            "border": null,
            "align_items": null,
            "bottom": null,
            "_model_module": "@jupyter-widgets/base",
            "top": null,
            "grid_column": null,
            "overflow_y": null,
            "overflow_x": null,
            "grid_auto_flow": null,
            "grid_area": null,
            "grid_template_columns": null,
            "flex": null,
            "_model_name": "LayoutModel",
            "justify_items": null,
            "grid_row": null,
            "max_height": null,
            "align_content": null,
            "visibility": null,
            "align_self": null,
            "height": null,
            "min_height": null,
            "padding": null,
            "grid_auto_rows": null,
            "grid_gap": null,
            "max_width": null,
            "order": null,
            "_view_module_version": "1.2.0",
            "grid_template_areas": null,
            "object_position": null,
            "object_fit": null,
            "grid_auto_columns": null,
            "margin": null,
            "display": null,
            "left": null
          }
        },
        "79fa4d9a8c934aceab1093320a48bae8": {
          "model_module": "@jupyter-widgets/controls",
          "model_name": "DescriptionStyleModel",
          "state": {
            "_view_name": "StyleView",
            "_model_name": "DescriptionStyleModel",
            "description_width": "",
            "_view_module": "@jupyter-widgets/base",
            "_model_module_version": "1.5.0",
            "_view_count": null,
            "_view_module_version": "1.2.0",
            "_model_module": "@jupyter-widgets/controls"
          }
        },
        "5f07b422091540978bf4fb1516ff40c5": {
          "model_module": "@jupyter-widgets/base",
          "model_name": "LayoutModel",
          "state": {
            "_view_name": "LayoutView",
            "grid_template_rows": null,
            "right": null,
            "justify_content": null,
            "_view_module": "@jupyter-widgets/base",
            "overflow": null,
            "_model_module_version": "1.2.0",
            "_view_count": null,
            "flex_flow": null,
            "width": null,
            "min_width": null,
            "border": null,
            "align_items": null,
            "bottom": null,
            "_model_module": "@jupyter-widgets/base",
            "top": null,
            "grid_column": null,
            "overflow_y": null,
            "overflow_x": null,
            "grid_auto_flow": null,
            "grid_area": null,
            "grid_template_columns": null,
            "flex": null,
            "_model_name": "LayoutModel",
            "justify_items": null,
            "grid_row": null,
            "max_height": null,
            "align_content": null,
            "visibility": null,
            "align_self": null,
            "height": null,
            "min_height": null,
            "padding": null,
            "grid_auto_rows": null,
            "grid_gap": null,
            "max_width": null,
            "order": null,
            "_view_module_version": "1.2.0",
            "grid_template_areas": null,
            "object_position": null,
            "object_fit": null,
            "grid_auto_columns": null,
            "margin": null,
            "display": null,
            "left": null
          }
        },
        "276e6afd7ab9423b9c2b9b872c5a5d03": {
          "model_module": "@jupyter-widgets/base",
          "model_name": "LayoutModel",
          "state": {
            "_view_name": "LayoutView",
            "grid_template_rows": null,
            "right": null,
            "justify_content": null,
            "_view_module": "@jupyter-widgets/base",
            "overflow": null,
            "_model_module_version": "1.2.0",
            "_view_count": null,
            "flex_flow": null,
            "width": null,
            "min_width": null,
            "border": null,
            "align_items": null,
            "bottom": null,
            "_model_module": "@jupyter-widgets/base",
            "top": null,
            "grid_column": null,
            "overflow_y": null,
            "overflow_x": null,
            "grid_auto_flow": null,
            "grid_area": null,
            "grid_template_columns": null,
            "flex": null,
            "_model_name": "LayoutModel",
            "justify_items": null,
            "grid_row": null,
            "max_height": null,
            "align_content": null,
            "visibility": null,
            "align_self": null,
            "height": null,
            "min_height": null,
            "padding": null,
            "grid_auto_rows": null,
            "grid_gap": null,
            "max_width": null,
            "order": null,
            "_view_module_version": "1.2.0",
            "grid_template_areas": null,
            "object_position": null,
            "object_fit": null,
            "grid_auto_columns": null,
            "margin": null,
            "display": null,
            "left": null
          }
        }
      }
    }
  },
  "cells": [
    {
      "cell_type": "code",
      "metadata": {
        "id": "fPL8sqHbQ2JH",
        "colab_type": "code",
        "outputId": "eaf20128-c09d-4545-ea09-3911a7dc754e",
        "colab": {
          "base_uri": "https://localhost:8080/",
          "height": 71
        }
      },
      "source": [
        "import pandas as pd\n",
        "import numpy as np\n",
        "import seaborn as sns\n",
        "import matplotlib.pyplot as plt\n",
        "import warnings\n",
        "sns.set()"
      ],
      "execution_count": 0,
      "outputs": [
        {
          "output_type": "stream",
          "text": [
            "/usr/local/lib/python3.6/dist-packages/statsmodels/tools/_testing.py:19: FutureWarning: pandas.util.testing is deprecated. Use the functions in the public API at pandas.testing instead.\n",
            "  import pandas.util.testing as tm\n"
          ],
          "name": "stderr"
        }
      ]
    },
    {
      "cell_type": "code",
      "metadata": {
        "id": "EfNeHXLJQ6zs",
        "colab_type": "code",
        "outputId": "67946b1e-a957-4746-f063-20cf518c8795",
        "colab": {
          "base_uri": "https://localhost:8080/",
          "height": 292
        }
      },
      "source": [
        "from google.colab import drive\n",
        "drive.mount('/content/drive',force_remount=True) ##Comment Force Remount when running for the first time\n",
        "data_link = 'Colab data files/'\n",
        "base_link = '/content/drive/My Drive/'\n",
        "exec(open(base_link+\"Colab Notebooks/Modules/IronMan.py\").read())"
      ],
      "execution_count": 0,
      "outputs": [
        {
          "output_type": "stream",
          "text": [
            "Mounted at /content/drive\n",
            "\n",
            "*******************************************************************************\n",
            "JARVIS V1.0   AUTHOR: CHETAN CHAUHAN\n",
            "Following program is a series of useful tools for Predictive Modelling\n",
            "Initiate the class object by passing in the final modelling dataset as shown\n",
            "Ensure that the dependant variable is binary 0 or 1\n",
            "*******************************************************************************\n",
            "\n",
            "model = Jarvis(dataframe,dep_var)\n",
            "test  = Utils()\n",
            "\n",
            "\n"
          ],
          "name": "stdout"
        },
        {
          "output_type": "stream",
          "text": [
            "/usr/local/lib/python3.6/dist-packages/ipykernel_launcher.py:15: FutureWarning: Passing a negative integer is deprecated in version 1.0 and will not be supported in future version. Instead, use None to not limit the column width.\n",
            "  from ipykernel import kernelapp as app\n"
          ],
          "name": "stderr"
        }
      ]
    },
    {
      "cell_type": "code",
      "metadata": {
        "id": "XvU0cGLpQ-Ru",
        "colab_type": "code",
        "outputId": "11776c7e-41c8-4dd5-e86a-c55e971d0353",
        "colab": {
          "base_uri": "https://localhost:8080/",
          "height": 176
        }
      },
      "source": [
        "DF = pd.read_csv(r\"https://raw.githubusercontent.com/Carl-Lejerskar/HMEQ/master/hmeq.csv\")\n",
        "r,c = DF.shape\n",
        "print(\"Rows :\",r,\"Columns :\",c)\n",
        "print(\"\")\n",
        "DF.head(3)"
      ],
      "execution_count": 0,
      "outputs": [
        {
          "output_type": "stream",
          "text": [
            "Rows : 5960 Columns : 13\n",
            "\n"
          ],
          "name": "stdout"
        },
        {
          "output_type": "execute_result",
          "data": {
            "text/html": [
              "<div>\n",
              "<style scoped>\n",
              "    .dataframe tbody tr th:only-of-type {\n",
              "        vertical-align: middle;\n",
              "    }\n",
              "\n",
              "    .dataframe tbody tr th {\n",
              "        vertical-align: top;\n",
              "    }\n",
              "\n",
              "    .dataframe thead th {\n",
              "        text-align: right;\n",
              "    }\n",
              "</style>\n",
              "<table border=\"1\" class=\"dataframe\">\n",
              "  <thead>\n",
              "    <tr style=\"text-align: right;\">\n",
              "      <th></th>\n",
              "      <th>BAD</th>\n",
              "      <th>LOAN</th>\n",
              "      <th>MORTDUE</th>\n",
              "      <th>VALUE</th>\n",
              "      <th>REASON</th>\n",
              "      <th>JOB</th>\n",
              "      <th>YOJ</th>\n",
              "      <th>DEROG</th>\n",
              "      <th>DELINQ</th>\n",
              "      <th>CLAGE</th>\n",
              "      <th>NINQ</th>\n",
              "      <th>CLNO</th>\n",
              "      <th>DEBTINC</th>\n",
              "    </tr>\n",
              "  </thead>\n",
              "  <tbody>\n",
              "    <tr>\n",
              "      <th>0</th>\n",
              "      <td>1</td>\n",
              "      <td>1100</td>\n",
              "      <td>25860.0</td>\n",
              "      <td>39025.0</td>\n",
              "      <td>HomeImp</td>\n",
              "      <td>Other</td>\n",
              "      <td>10.5</td>\n",
              "      <td>0.0</td>\n",
              "      <td>0.0</td>\n",
              "      <td>94.366667</td>\n",
              "      <td>1.0</td>\n",
              "      <td>9.0</td>\n",
              "      <td>NaN</td>\n",
              "    </tr>\n",
              "    <tr>\n",
              "      <th>1</th>\n",
              "      <td>1</td>\n",
              "      <td>1300</td>\n",
              "      <td>70053.0</td>\n",
              "      <td>68400.0</td>\n",
              "      <td>HomeImp</td>\n",
              "      <td>Other</td>\n",
              "      <td>7.0</td>\n",
              "      <td>0.0</td>\n",
              "      <td>2.0</td>\n",
              "      <td>121.833333</td>\n",
              "      <td>0.0</td>\n",
              "      <td>14.0</td>\n",
              "      <td>NaN</td>\n",
              "    </tr>\n",
              "    <tr>\n",
              "      <th>2</th>\n",
              "      <td>1</td>\n",
              "      <td>1500</td>\n",
              "      <td>13500.0</td>\n",
              "      <td>16700.0</td>\n",
              "      <td>HomeImp</td>\n",
              "      <td>Other</td>\n",
              "      <td>4.0</td>\n",
              "      <td>0.0</td>\n",
              "      <td>0.0</td>\n",
              "      <td>149.466667</td>\n",
              "      <td>1.0</td>\n",
              "      <td>10.0</td>\n",
              "      <td>NaN</td>\n",
              "    </tr>\n",
              "  </tbody>\n",
              "</table>\n",
              "</div>"
            ],
            "text/plain": [
              "   BAD  LOAN  MORTDUE    VALUE   REASON    JOB   YOJ  DEROG  DELINQ  \\\n",
              "0  1    1100  25860.0  39025.0  HomeImp  Other  10.5  0.0    0.0      \n",
              "1  1    1300  70053.0  68400.0  HomeImp  Other  7.0   0.0    2.0      \n",
              "2  1    1500  13500.0  16700.0  HomeImp  Other  4.0   0.0    0.0      \n",
              "\n",
              "        CLAGE  NINQ  CLNO  DEBTINC  \n",
              "0  94.366667   1.0   9.0  NaN       \n",
              "1  121.833333  0.0   14.0 NaN       \n",
              "2  149.466667  1.0   10.0 NaN       "
            ]
          },
          "metadata": {
            "tags": []
          },
          "execution_count": 3
        }
      ]
    },
    {
      "cell_type": "code",
      "metadata": {
        "id": "pp3HlTiPSYUf",
        "colab_type": "code",
        "colab": {}
      },
      "source": [
        "data = Jarvis(DF,'BAD')"
      ],
      "execution_count": 0,
      "outputs": []
    },
    {
      "cell_type": "code",
      "metadata": {
        "id": "Pg5TgPzFXxD5",
        "colab_type": "code",
        "outputId": "dcfc7e69-ba40-4468-a787-95a81828e0a7",
        "colab": {
          "base_uri": "https://localhost:8080/",
          "height": 377
        }
      },
      "source": [
        "data.event_rate_plot()"
      ],
      "execution_count": 0,
      "outputs": [
        {
          "output_type": "stream",
          "text": [
            "Total Records : 5960\n",
            "Event Rate    : 0.1995\n"
          ],
          "name": "stdout"
        },
        {
          "output_type": "display_data",
          "data": {
            "image/png": "[encoded data removed]",
            "text/plain": [
              "<Figure size 360x360 with 1 Axes>"
            ]
          },
          "metadata": {
            "tags": []
          }
        }
      ]
    },
    {
      "cell_type": "code",
      "metadata": {
        "id": "55FvWSUpSuNa",
        "colab_type": "code",
        "outputId": "343141bd-8aea-417c-f4f1-9d5adea80e17",
        "colab": {
          "base_uri": "https://localhost:8080/",
          "height": 364
        }
      },
      "source": [
        "data.univariate_analysis('DEBTINC',num_as_cat=False)"
      ],
      "execution_count": 0,
      "outputs": [
        {
          "output_type": "display_data",
          "data": {
            "text/html": [
              "\n",
              "            <!DOCTYPE html>\n",
              "            <html>\n",
              "            <head>\n",
              "            <meta name=\"viewport\" content=\"width=device-width, initial-scale=1\">\n",
              "            <style>\n",
              "            * {\n",
              "              box-sizing: border-box;\n",
              "            }\n",
              "            /* Create three equal columns that floats next to each other */\n",
              "            .column {\n",
              "              float: left;\n",
              "              width: 33.33%;\n",
              "              padding: 10px;\n",
              "              height: 300px; /* Should be removed. Only for demonstration */\n",
              "            }\n",
              "\n",
              "            /* Clear floats after the columns */\n",
              "            .row:after {\n",
              "              content: \"\";\n",
              "              display: table;\n",
              "              clear: both;\n",
              "            }\n",
              "            </style>\n",
              "            </head>\n",
              "            <body>\n",
              "            <center><h2>Univariate Analysis for DEBTINC</h2></center>\n",
              "            <div class=\"row\">\n",
              "                <div class=\"column\" >\n",
              "                <p class=\"aligncenter\"><img src='data:image/png;base64,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' align=\"left\" border=\"0\"></p>\n",
              "                </div>\n",
              "                <div class=\"column\" >\n",
              "                <p class=\"aligncenter\"><img src='data:image/png;base64,iVBORw0KGgoAAAANSUhEUgAAAUcAAAEMCAYAAABX1nTEAAAABHNCSVQICAgIfAhkiAAAAAlwSFlzAAALEgAACxIB0t1+/AAAADh0RVh0U29mdHdhcmUAbWF0cGxvdGxpYiB2ZXJzaW9uMy4yLjEsIGh0dHA6Ly9tYXRwbG90bGliLm9yZy+j8jraAAAgAElEQVR4nO3dfXBb1Z3/8bfulWTLT7HlyI6MDTShBLNNaEsoTUqz28SJvcXBWWaDmZTOtAnpdDfb7NLf7pB9iuNCp3Xb6bbNkqGb2bKbgaWMl1lCjCdk0t1OCRQaFkgA81Q2wRDLsmNZiWU9X93fH4qVGD9ItnSvZef7mmHGko6kc3zxJ+fcc+65Fl3XdYQQQoyjzHUFhBAiH0k4CiHEJCQchRBiEhKOQggxCQlHIYSYhISjEEJMQsJRCCEmYZ3rCmRqeHiURGL2SzIrK0sYGgrksEb5Tdq7sEl7s6coFioqiqd8fd6EYyKhZxWOY59xJZH2LmzSXmPJsFoIISYh4SiEEJOQcBRCiElIOAohxCQkHIUQYhISjkIIMQkJxzyl6zq/fvUsQ+fDc10VIa5IEo556tz5MAeffYefdJ4kHI3PdXWEuOJkFI6nT5+mtbWVxsZGWltbOXPmzIQymqbR3t5OQ0MDGzZsoLOzc9zr3d3dbNq0iebmZjZt2sS5c+dy0oCFqtebvBrg7LlRHul+G9mwXQhzZXSFTFtbG1u3bqWlpYVDhw6xZ88eDh48OK7M4cOH6e3t5ejRo/j9fjZv3szq1aupra3l9ddf55//+Z/593//d1wuFyMjI9jtdkMatFB8ODCCxQJ3fOETHDp+mlU3VHHLDVVzXS0hrhhpe45DQ0P09PTQ3NwMQHNzMz09Pfh8vnHluru72bJlC4qi4HQ6aWho4MiRIwD827/9G9u2bcPlcgFQWlpKQUFBrtuyoHw4EGCJs4gvf/5qAAaGg3NcIyGuLGl7jh6Ph+rqalRVBUBVVaqqqvB4PDidznHlampqUo/dbjf9/f0AvP/++9TW1vKVr3yFYDDIhg0b+LM/+zMsFkvGFa2sLMm47FRcrtKsP8MsZ8+NcsM1TtxLFmFVLVhUdcb1n0/tzQVp78JmdntN2XhC0zTeeecdHnnkEaLRKPfeey81NTVs3rw5488YGgpkdeG5y1XK4ODIrN9vpmA4xsBwiLU3FXLuXIBCu5Uhf3BG9Z9P7c0Fae/CZkR7FcUybacr7bDa7Xbj9XrRNA1IBt3AwABut3tCub6+vtRjj8fDkiVLAKipqaGpqQm73U5JSQnr16/n1KlTs2rQleDDgeRkTF1V8sAV2lXCEZmxFsJMacOxsrKS+vp6urq6AOjq6qK+vn7ckBqgqamJzs5OEokEPp+PY8eO0djYCCTPUx4/fhxd14nFYrz44ovccMMNBjRnYei9GI5XXwxHR4GVUESbyyoJccXJaFi9d+9edu/ezf79+ykrK6OjowOAHTt2sGvXLlasWEFLSwsnT55k48aNAOzcuZO6ujoAbr/9dt544w2+/OUvoygKt912G3/6p39qUJPmvw+9AcqKbCwqSU5aOeyqrHUUwmQWfZ4soLuSzjm2P3KCkiIb/6/10wD8pPMk5wNR2r5+S8afMZ/amwvS3oUtL885CnPFtQRnzwVS5xvh4rBaeo5CmErCMc/4AxHims4SZ1HqOYdMyAhhOgnHPOMfiQJQUXppkXxhgZVQVCZkhDCThGOe8QciAJSXXApHh10lFk8Q1xJzVS0hrjgSjnlmeCQZjh/vOQKEpfcohGkkHPOMPxDBqioUF15aZeWwJ38OyXlHIUwj4ZhnhgMRykvs4647dxQkr2uXcBTCPBKOecY/EqG8dPyORTKsFsJ8Eo55ZjgQpaJkfDjKsFoI80k45hl/IDJuphouG1bLQnAhTCPhmEdCkTiRqDZuphqg8GLPMSybTwhhGgnHPHJpjeP4W0hIz1EI80k45pHJ1jgCFNhULCDblglhIgnHPDLZ1TEAFouFwgKrXF8thIkkHPPIWM/x4+EIyaG1DKuFMI+EYx7xB6I4CqwU2NUJrznsVpmQEcJEEo55xD8SmXC+cUyh9ByFMJWEYx4Zu3RwMg673EdGCDNJOOYRfyAy4eqYMYUFVrmPjBAmknDMEwld53wgOuG66jEOuyqXDwphIgnHPBEIxdASOouKpxhWy27gQphKwjFPjIZiAJQU2SZ9vdCuEolqWd2BUQiROQnHPBEYC0fH5OHokG3LhDCVhGOeCAQzDUc57yiEGazpi8Dp06fZvXs3fr+f8vJyOjo6uPbaa8eV0TSNBx98kOeeew6LxcI3vvENtmzZAsC+ffv4j//4D6qqqgD47Gc/S1tbW25bMs+l6zkW2mU3cCHMlFE4trW1sXXrVlpaWjh06BB79uzh4MGD48ocPnyY3t5ejh49it/vZ/PmzaxevZra2loANm/ezP3335/7FiwQgXBmPUeZlBHCHGmH1UNDQ/T09NDc3AxAc3MzPT09+Hy+ceW6u7vZsmULiqLgdDppaGjgyJEjxtR6AQoEY1hVCwW2iZcOwqXdwGXzCSHMkTYcPR4P1dXVqGryj1ZVVaqqqvB4PBPK1dTUpB673W76+/tTj5955hk2bdrEtm3bePXVV3NV/wUjEIpR7LCNu7HW5QpTezpKz1EIM2Q0rM7W3XffzTe/+U1sNhvPP/88f/7nf053dzcVFRUZf0ZlZUnW9XC5SrP+DKPEEjoVpYVT1lG3JsPRardm3I58bq8RpL0Lm9ntTRuObrcbr9eLpmmoqoqmaQwMDOB2uyeU6+vrY+XKlcD4nqTL5UqV+8IXvoDb7ea9997jc5/7XMYVHRoKZLXGz+UqZXBwZNbvN5rPH6LQpkxZx7F1kINDoxm1I9/bm2vS3oXNiPYqimXaTlfaYXVlZSX19fV0dXUB0NXVRX19PU6nc1y5pqYmOjs7SSQS+Hw+jh07RmNjIwBerzdV7q233uLs2bN84hOfmFWDFqqRi8PqqdisyUMV1xJmVUmIK1pGw+q9e/eye/du9u/fT1lZGR0dHQDs2LGDXbt2sWLFClpaWjh58iQbN24EYOfOndTV1QHw4x//mDfffBNFUbDZbPzgBz8Y15sUyZ5h6XThqCbDMRaXcBTCDBmF47Jly+js7Jzw/IEDB1I/q6pKe3v7pO8fC1MxOV3XCYTi0/YcFcWCqlik5yiESeQKmTwQisRJ6PqUaxzHWFVFeo5CmETCMQ+kuzpmjM2qEJOeoxCmkHDMA4FQcmF3+p6jhbj0HIUwhYRjHgiEooD0HIXIJxKOeSDTYbVVVaTnKIRJJBzzwNiwerrZarjYc5RwFMIUEo55IBCKYbFAUeH0K6tsqiJLeYQwiYRjHgiEYhQX2lCm2HRijPQchTCPhGMeCIRiac83wsV1jprcQ0YIM0g45oHRUGzKG2tdzirDaiFMI+GYB0aCMUoK04ejDKuFMI+EYx4YDWc+rJaeoxDmkHDMA5mec5SeoxDmkXCcY5GoRiyeoNiRfoMkWcojhHkkHOfYufMhACrLCtOWlZ6jEOaRcJxjA/5kOFZVFKUta7VaiGkJdF2W8whhNAnHOTY4PBaOjrRlbaqCroOWxb10hBCZkXCcY15/CEeBleI0lw4CWOU+MkKYRsJxjg0Oh6iqcEx5v+rLWdWxcJSeoxBGk3CcYwP+EFXl6YfUcOkOhDIpI4TxJBznkJZIMHQ+nNH5RrjsDoQyrBbCcBKOc2joQgQtoUvPUYg8JOE4h2YyUw2XnXOUcBTCcBKOc2hsjaNrpj1HGVYLYTgJxzk0MBzEZlUoLy3IqLz0HIUwT0bhePr0aVpbW2lsbKS1tZUzZ85MKKNpGu3t7TQ0NLBhwwY6OzsnlPm///s/brrpJjo6OrKu+EIwMBzCVe5IuwP4GOk5CmGe9CuPgba2NrZu3UpLSwuHDh1iz549HDx4cFyZw4cP09vby9GjR/H7/WzevJnVq1dTW1sLJMOzra2NhoaG3LciT8QTEInFMy7vHQ7hLCtgNJLZe8YWf0vPUQjjpQ3HoaEhenp6eOSRRwBobm7mgQcewOfz4XQ6U+W6u7vZsmULiqLgdDppaGjgyJEj3HvvvQD8y7/8C3/0R39EMBgkGAwa1Jy5FYnFOfGWN6Oyuq4zMBxkUbE94/f4AxFAeo5CmCHtsNrj8VBdXY2qqgCoqkpVVRUej2dCuZqamtRjt9tNf38/AG+//TbHjx/na1/7Wg6rPr8FQjHimk5ZsT3j96hKcvgtS3mEMF5Gw+psxGIx/vEf/5Hvfe97qYCdjcrKkqzr4nKVZv0Z09F9QUpL0m89BuDxJWeqr6lZlPF7LEry3zJHkT2jthjd3nwj7V3YzG5v2nB0u914vV40TUNVVTRNY2BgALfbPaFcX18fK1euBC71JAcHB+nt7eUb3/gGABcuXEDXdQKBAA888EDGFR0aCpDIYjcal6uUwcGRWb8/E8FInJFAOKOyH/ZfwKpasCtk/J5wNHlu0jccTNsWM9qbT6S9C5sR7VUUy7SdrrThWFlZSX19PV1dXbS0tNDV1UV9ff24840ATU1NdHZ2snHjRvx+P8eOHeOxxx6jpqaGl156KVVu3759BINB7r///iyaNf8N+sNULipEUTKbqQZQFdl4QgizZLSUZ+/evTz66KM0Njby6KOP0t7eDsCOHTt4/fXXAWhpaaG2tpaNGzdy1113sXPnTurq6oyr+TwW1xL4RsIZL/4ec+mco2ZEtYQQl8nonOOyZcsmXbd44MCB1M+qqqZCczrf+ta3ZlC9hWnoQhhdz/zKmDEWC1iAmPQchTCcXCEzBwb9yXOMixdlNhEzxmKxYLUqss5RCBNIOM6Bc/4QpUU2HAUzXyxgVRVZ5yiECSQcTabrOoP+0Ix7jWPk9qxCmEPC0WThqEYoolE5y3C0Wi2yCFwIE0g4mmw0nFyrWOKwzer9Vuk5CmEKCUeTjYZiABRnEY7ScxTCeBKOJhsNXwzHwizCUXqOQhhOwtFko6E4VtVCgW12v3qb1SJLeYQwgYSjyUbDMYoLbRndp3oy0nMUwhwSjiYbDcUpKpz9Zkg2OecohCkkHE02Go7NeqYaxmar5fJBIYwm4WiiuJYgHNVmPVMNyOWDQphEwtFEwYtrHIuzGFZbVYuccxTCBBKOJsp2GQ/IOkchzCLhaKJA6GLP0ZHFhIxVZquFMIOEo4nGro7JZrbaqso5RyHMIOFootFwDEeBmrrdwWxYVQUtoZPQZcZaCCNJOJpoNBzP6nwjJCdkAOk9CmEwCUcTjYZiWS3jgeQ5R0DOOwphMAlHk+i6frHnmN2twq3qxTsQSs9RCENJOJokHNVIJPSsh9WpnqOEoxCGknA0SWoBeBbLeOBSz1GG1UIYS8LRJMFIMhyzWcYDl03IyPXVQhhKwtEkY1fHFBVkO1stw2ohzCDhaJJgOI7FAoUFalafk5qQkWG1EIbKKBxPnz5Na2srjY2NtLa2cubMmQllNE2jvb2dhoYGNmzYQGdnZ+q1J598kk2bNtHS0sKmTZs4ePBgzhowXwTDcYoKrCiz3OR2jEzICGGOjE6AtbW1sXXrVlpaWjh06BB79uyZEHCHDx+mt7eXo0eP4vf72bx5M6tXr6a2tpbGxkbuvPNOLBYLgUCATZs28bnPfY4bbrjBkEblo2A4TlGWM9UgEzJCmCVtz3FoaIienh6am5sBaG5upqenB5/PN65cd3c3W7ZsQVEUnE4nDQ0NHDlyBICSkpLUbQHC4TCxWGzWtwmYr5K3R8huMgYu9RxlnaMQxkobjh6Ph+rqalQ1ea5MVVWqqqrweDwTytXU1KQeu91u+vv7U49/9atfcfvtt/OlL32Je++9l+XLl+eqDXlP1/WLPcfsw3Fstlp6jkIYK/u/1gytX7+e9evX09fXx86dO1m7di1Lly7N+P2VlSVZ18HlKs36M6aj+4KUlhROeD4cjaMldJyLHJO+PhNj7y902NO2x+j25htp78JmdnvThqPb7cbr9aJpGqqqomkaAwMDuN3uCeX6+vpYuXIlMLEnOaampoYVK1bw61//ekbhODQUIJGY/do+l6uUwcGRWb8/E8FInJFAeMLzvgvJ51QLk74+E7GoA4Bhf3Da9pjR3nwi7V3YjGivolim7XSlHVZXVlZSX19PV1cXAF1dXdTX1+N0OseVa2pqorOzk0Qigc/n49ixYzQ2NgLw/vvvp8r5fD5eeuklrr/++lk1aD4auzomF8Nqma0WwhwZ/bXu3buX3bt3s3//fsrKyujo6ABgx44d7Nq1ixUrVtDS0sLJkyfZuHEjADt37qSurg6AJ554gueffx6r1Yqu69xzzz3cdtttBjUp/xgRjlEJRyEMldFf67Jly8atWxxz4MCB1M+qqtLe3j7p+//u7/5ultVbGEYjcSyAw559OKqKBQvScxTCaHKFjAmC4RiOQiuKkv3yJYvFgs0mt0oQwmgSjiYYuzomV2yqQjSu5ezzhBATSTiaIJiDTW4vZ7epMqwWwmASjgZL7gAey8mlg2Nscu9qIQwn4WiwaDxBXNNzMlM9xmaTcBTCaBKOBgsEk/s4lhbltucoS3mEMJaEo8ECoWQ4lmR518HL2a0KMZmQEcJQEo4GGwlGASjJZc/RKsNqIYwm4WiwQChGgU3Fbs1uB/DL2awyWy2E0SQcDTYSjOW01wjJnqOccxTCWBKOBguEYpTm8HwjjJ1zlHAUwkgSjgZK6DqBkDE9R5mQEcJYEo4GCobj6Do57znarKrsBC6EwSQcDTS2xtGQc44xCUchjCThaKCR0MVlPAacc9QSelY7owshpifhaKBAMIbFAsU5vK4aZDdwIcwg4WigkWCM4kJbTvZxvFwqHOW8oxCGkXA0UCAUy+k11WNSt0qIyYy1EEaRcDRQIBTL+flGIHW1jfQchTCOhKNBYvEE4aiW85lquGxYLTPWQhhGwtEgo+GLy3hyPBkDcs5RCDNIOBpkNJS8HWuxI3eb3I6Rc45CGE/C0SBjPcdcL+MBOecohBkkHA0yGo5jsYAjh3cdHCPnHIUwnoSjQUZDMRwFublX9cfJOUchjJdROJ4+fZrW1lYaGxtpbW3lzJkzE8pomkZ7ezsNDQ1s2LCBzs7O1GsPPfQQt99+O5s2beLOO+/kueeey1kD8tVoOGbIkBouP+co4SiEUTIa87W1tbF161ZaWlo4dOgQe/bs4eDBg+PKHD58mN7eXo4ePYrf72fz5s2sXr2a2tpaVq5cybZt23A4HLz99tvcc889HD9+nMLCQkMalQ+C4TiVi4xpn116jkIYLm3PcWhoiJ6eHpqbmwFobm6mp6cHn883rlx3dzdbtmxBURScTicNDQ0cOXIEgC9+8Ys4HA4Ali9fjq7r+P3+XLclb+i6zmgobnjPMSaz1UIYJm04ejweqqurUdXkDKmqqlRVVeHxeCaUq6mpST12u9309/dP+LynnnqKq6++miVLlmRb97wVjmokdN2QZTyQ3M8RpOcohJGM+eudwu9+9zt++tOf8otf/GLG762sLMn6+12u0qw/Yzq6L0hpSSHBaDD5feXFlJbkdmhdVFSAq8KBxQJWu3XaNhnd3nwj7V3YzG5v2nB0u914vV40TUNVVTRNY2BgALfbPaFcX18fK1euBCb2JF999VX+5m/+hv3797N06dIZV3RoKJDV/oUuVymDgyOzfn8mgpE4I4Ewg75RACwkGAmEc/sdwQjnNA2bqnD+QnjKNpnR3nwi7V3YjGivolim7XSlHVZXVlZSX19PV1cXAF1dXdTX1+N0OseVa2pqorOzk0Qigc/n49ixYzQ2NgJw6tQp7rvvPn72s5/xB3/wB9m0Z15ILQA3YNOJMTarIuschTBQRsPqvXv3snv3bvbv309ZWRkdHR0A7Nixg127drFixQpaWlo4efIkGzduBGDnzp3U1dUB0N7eTjgcZs+ePanP/MEPfsDy5ctz3Z68MBqKY1UtqVllI9isCjFNJmSEMEpG4bhs2bJx6xbHHDhwIPWzqqq0t7dP+v4nn3xyltWbn0bDMYodNiyW3C8AHyP3rhbCWHKFjAGMXMYzxm5V5TYJQhhIwtEAyatjjF0IYLUqEo5CGEjCMcfiWnKTWyMnYyB5lYyEoxDGkXDMsZGL96o24t4xl0uec5QJGSGMIuGYYyPB5L2qy4rshn6PnHMUwlgSjjl2YTQZjqXFxvYc5ZyjEMaScMyxC8EYhXY1tVu3UeScoxDGknDMsZHRKGXFxg6pQdY5CmE0CcccuxCMGj4ZAxevkJFwFMIwEo45FI7GCUU0wydjYCwcZbZaCKNIOObQoD+5A48Zw2q7VSWu6ST02e9UJISYmoRjDg0OhwAoM3imGi7bDVyG1kIYQsIxhwb8yU1uS00aVoOEoxBGkXDMocHhEEWFVqyq8b9WCUchjCXhmEOD/rApkzFw2R0IZVJGCENIOObQwHDQlGU8cNlNtqTnKIQhJBxzZDQcYzQcN2WmGi4Nq2UhuBDGkHDMEa9vbKba3HCUnqMQxpBwzBGvb2ym2pxhtV3CUQhDSTjmiHc4iMViXjhKz1EIY0k45oh3OISztBBVMedXOjYhIxveCmEMCccc6fcFcVU4TPs+6TkKYSwJxxzQdZ2B4SBVJoajnHMUwlgSjjkwEowRimi4ys0LxwJbclgdjsqwWggjSDjmQP/FmWozw7HQrqIqFgKhmGnfKcSVJKNwPH36NK2trTQ2NtLa2sqZM2cmlNE0jfb2dhoaGtiwYQOdnZ2p144fP86dd97Jpz71KTo6OnJW+XzhHU6Go5nDaovFQonDJuEohEEyCse2tja2bt3Ks88+y9atW9mzZ8+EMocPH6a3t5ejR4/yxBNPsG/fPj766CMA6urq+O53v8v27dtzW/s8MTAcQlUsOMsKTf3eEoeNUQlHIQyRNhyHhobo6emhubkZgObmZnp6evD5fOPKdXd3s2XLFhRFwel00tDQwJEjRwC45pprqK+vx2q1GtCEudfvC7K43IGqWEz93mLpOQphmLRp5fF4qK6uRlWTEwCqqlJVVYXH48HpdI4rV1NTk3rsdrvp7+/PWUUrK0uy/gyXqzQHNZlo6EKEuupSiooKKC0xtvdYVFSAy1kEQGW5g77BwJTtMqq9+Urau7CZ3d5505UbGgqQSMz+lgAuVymDgyM5rFGSruv0nQtwfe0igsEII4Fwzr/jcsFghEEtOUNtU8AfiEzaLqPam6+kvQubEe1VFMu0na60w2q3243X60W7+AepaRoDAwO43e4J5fr6+lKPPR4PS5YsmW29542hC2GisQRLLvbmzFRcmDznqMt9ZITIubThWFlZSX19PV1dXQB0dXVRX18/bkgN0NTURGdnJ4lEAp/Px7Fjx2hsbDSm1nnko8FRAGpd2Q/7Z6rEYSOu6URistZRiFzLaLZ67969PProozQ2NvLoo4/S3t4OwI4dO3j99dcBaGlpoba2lo0bN3LXXXexc+dO6urqAHj55ZdZu3YtjzzyCL/85S9Zu3Ytzz33nEFNMtfZwQAANYuLTf/uYkdykwuZlBEi9zI657hs2bJx6xbHHDhwIPWzqqqp0Py4VatW8Zvf/GaWVcxvZ8+N4iwroKjQymgkbup3l1wMx9FQnMWLTP1qIRY8uUImS2cHR+dkSA2XwlF6jkLknoRjFrREAs/QKFfNwZAaZFgthJEkHLPg9YWIazpXueYmHKXnKIRxJByzcPZccqb6qsVzM6wuLkyeMpZLCIXIPQnHLJwdDGCxQM1i89c4AlhVBUeBKj1HIQwg4ZiFs4OjVFcUpW5ZMBeKC20EwhKOQuSahGMWPjo3OmfnG8eUOGwEghKOQuSahOMsjYZjDAwH52ymeozs6SiEMSQcZ+nltwfQdfj0JxfPaT0kHIUwxrzZlSff/PaNftyVRVxTbe42ShbFMu5KnAJ7ckLm41fn6L4gwVlcsVNgs2KVfzKFkHCcjXP+EO9+dJ4/WbsUi8XcDW4jMY2T7w6mHvsDEcJRjZfe7Ee5bLPd0pLCWW2fdkt9NdYC+d9CCOkjzMKLPV4AVt9YPcc1uXQXQtmZR4jcknCcIV3X+e2b/Vxfu4jFJt5tcCoSjkIYQ8Jxht790I9nKMiaFe70hU1QYL8YjnL/aiFySsJxho69/BHFhVZuzYMhNUjPUQijSDjOwDl/iFfeG2Ttp2tSoTTXUuEoPUchckrCcQb++5WzWLCw/rO1c12VFEehFZuqMHje2Bt7CXGlkXDMUDAc5zcn+/jschfOMmNvvzoTqmLhqqpiPvQGSMiNtoTIGQnHDB090UswEufLn796rqsywdXVpURiGgPDobmuihALxhW12jeegEhs5leNjASjPPu7D/n0Jxfjqiia8l4xWdxWOytXLS5GUSx86A3MyS1ihViIrqhwjMTinHjLO+P3vfz2ANGYxtXVJdO+/6brXdlUb9ZsVoWayiJ6vSOsusFl+lU7QixEMqxOYzQc4+1eP0uvKqO8pGCuqzOlq6tLGQ3H8V2IzHVVhFgQJBzTOPX7IdB1brpubnffSae2qgRVsfC/7wzKxIwQOXBFhuNIMEosnkhb7sJolN+fPc/1deWpm1nlq0K7yudurKbfF+T194fmujpCzHtX1DnHjwYC/Op/P+Ls4ChW1cLSmkV8aqlzyuB77ffnUBULK5ZVmlzT2bnuqjK8viAnfz+Eq6KImkqZnBFitjLqOZ4+fZrW1lYaGxtpbW3lzJkzE8pomkZ7ezsNDQ1s2LCBzs7OjF4zy3+/3MsPH3+VQX+Im66r5JrqUn5/9jxPHz/NW2eGSXxsqvnN0z7OeEaov6YCxzzZwstisXDrjdVUVTg4duJDnjvZR9+5US6MRtFlqC3EjGT0V9/W1sbWrVtpaWnh0KFD7Nmzh4MHD44rc/jwYXp7ezl69Ch+v5/NmzezevVqamtrp33NaOFonCMv9fL082e4vq6cz1y/OHXJ3U2fXMxLb3o58fYAr713jmqng/KSAmJagnd6/VyzpDTvzzV+nM2qsPGWOt796AIn3urntGck9fziRYWUlxRQUmQjriUIRzQsFlAUC7F4gkhU48U3vUSiGiVFNhYvKuTqqhKudZfhKnekbgUb13E94SkAAAlnSURBVBJEYgli8QQ2q0KBTcUmO+SKBSZtOA4NDdHT08MjjzwCQHNzMw888AA+nw+n05kq193dzZYtW1AUBafTSUNDA0eOHOHee++d9rVMXb6RazpvfTDMB/0jXBiN8MZpH+Goxh1fXMqGVbW8edqXKldUaKP5C9fiHQ7iGQoyOBxi8HwIXYebl7u4eXnVjL7XqioUFRp7bjLT71j7mau48dpyRoIxRsMxhkciDF+I4B+NMHQheamhqibblkjoWK0KBVaV0iI7SyqtjIZifOAN8NYHw6nPVBULCV1nsk5oabGdxYsKKbCpKBYLisWSCl5FsVBgUymwqcTiGqGoxvBIhPOBCA67lbISO2VFdsqKk+1K6JDQdDRdJ5HQSeg6qqJgUxVsVgtWVYGxw3KxLkVFdkaD0UsVmqKnfPnTOjqxuE4kphGNacQ1HatqwW5P1rXAqmCxWJJfcdkbdT31tRc/5VJd9FSZ5O8pEksQicZTz9utCnaris2mJNsB6AkdHZ24pjMajjMSjBIIxghG4pQV2agoK6C40E5RgZpaplVUZCd4eXvh0u+Ejz+d/v/hy1rBFD+m/Z2Of1Wf5KepP3uqkc3Y044iO8HRKJGoRiSuYVUsqGryd6iqFmyqgrOsgJuuW4yS4VK2dH/bacPR4/FQXV2NqiZ7W6qqUlVVhcfjGReOHo+Hmpqa1GO3201/f3/a1zJVUZH5jaxuqyzhtileu7a2YkbfO1NLDf58s75DiCudjIWEEGISacPR7Xbj9XrRtOSWWJqmMTAwgNvtnlCur68v9djj8bBkyZK0rwkhRD5KG46VlZXU19fT1dUFQFdXF/X19eOG1ABNTU10dnaSSCTw+XwcO3aMxsbGtK8JIUQ+sugZrPF4//332b17NxcuXKCsrIyOjg6WLl3Kjh072LVrFytWrEDTNL7zne/w/PPPA7Bjxw5aW1sBpn1NCCHyUUbhKIQQVxqZkBFCiElIOAohxCQkHIUQYhISjkIIMYkrIhwz2ThjPlu3bh1NTU20tLTQ0tLCc889B8Brr73GHXfcQWNjI9u2bWNoaH5uZdbR0cG6detYvnw57777bur56Y7rfD7mU7V3quMM8/tYDw8Ps2PHDhobG9m0aRN/8Rd/gc+XvMx3unYZ3mb9CvDVr35Vf+qpp3Rd1/WnnnpK/+pXvzrHNcqtL33pS/o777wz7jlN0/SGhgb9xIkTuq7r+kMPPaTv3r17LqqXtRMnTuh9fX0T2jndcZ3Px3yq9k52nHV9/h/r4eFh/cUXX0w9/v73v6//7d/+7bTtMqPNC77nOLZxRnNzM5DcOKOnpyf1L9NC9cYbb1BQUMCqVasAuPvuuzly5Mgc12p2Vq1aNeGKrOmO63w/5pO1dzrz/ViXl5dz6623ph5/+tOfpq+vb9p2mdHm+bFRYRYy3Thjvvvrv/5rdF3n5ptv5tvf/vaEzT6cTieJRAK/3095efkc1jQ3pjuuuq4v2GP+8eNcVla2oI51IpHg8ccfZ926ddO2y4w2L/ie45Xgscce4+mnn+bJJ59E13W+853vzHWVhAGuhOP8wAMPUFRUxD333DPXVVn44Zjpxhnz2Vhb7HY7W7du5ZVXXpmw2YfP50NRlHnXk5jKdMd1oR7zyY7z2PML4Vh3dHTwwQcf8JOf/ARFUaZtlxltXvDhmOnGGfNVMBhkZCS527eu63R3d1NfX8+nPvUpwuEwL7/8MgC//OUvaWpqmsuq5tR0x3UhHvOpjjOwII71j3/8Y9544w0eeugh7HY7MH27zGjzFXFt9VQbZywEH374Id/61rfQNI1EIsGyZcv4h3/4B6qqqnjllVdoa2sjEolw1VVX8cMf/pDFi+fXbR8AHnzwQY4ePcq5c+eoqKigvLycZ555ZtrjOp+P+WTtffjhh6c8zsC8Ptbvvfcezc3NXHvttRQWFgJQW1vLQw89NG27jG7zFRGOQggxUwt+WC2EELMh4SiEEJOQcBRCiElIOAohxCQkHIUQYhISjkIIMYkFf221yB/r1q3j3LlzqKqKqqpcd911tLS00NraiqIo7N69m66uLmw2W+o9dXV1PP3003z00UesX7+eoqIiABwOBxs3buTv//7vsdlsfOYzn0m9JxQKYbfbU9dWt7e388EHH/DBBx/wox/9CIDly5dz/fXXc+jQIRQl2Uf4p3/6J7xeL9///vcBiEaj/PznP+fw4cMMDAzgdDq59dZb2blzJ7W1tab8zsTckXAUpnr44YdZs2YNIyMj/O53v+O73/0up06d4nvf+x4A27dv57777pvy/SdOnMBqtTI0NMT27dt57LHH+NrXvsarr76aKrNu3ToefPBB1qxZk3pu3759Ez5rYGCAZ555hk2bNk36Xbt27cLr9fKjH/2IG2+8kVAoxNNPP81vf/tbtmzZMttfgZgnJBzFnCgtLWX9+vW4XC7uuusuvv71r8/o/ZWVlaxZs4b3339/1nXYvn07+/bt44//+I+xWsf/Kbzwwgu88MILPPvss6lrmktLS/nKV74y6+8T84uccxRzauXKlSxZsiR1jWymvF4vx48f56abbpr1d2/cuJGSkhL+67/+a8JrL7zwAitXrpz3m1WI2ZNwFHOuqqqK8+fPA/CLX/yCVatWpf67//77x5X9/Oc/z6pVq1i7di1FRUVZbTZgsVj4y7/8S/bv3080Gh33mt/vx+Vyzfqzxfwnw2ox57xeL4sWLQJg27Zt055zfPHFF7FarYTDYX7605+yfft2nnjiiVl/9x/+4R9SXV094TPKy8vn1X1nRO5Jz1HMqVOnTuH1ern55ptn9L7CwkLuvPNOXnvttaxvf3Dffffx85//nHA4nHpuzZo1nDp1iv7+/qw+W8xfEo5iTgQCAf7nf/6Hb3/729xxxx0sX758Ru+PRqMcOnQIl8tFRUVFVnW59dZb+eQnP8lTTz2Vem7NmjWsWbOGnTt38sYbbxCPxwkEAjz++OP853/+Z1bfJ+YHGVYLU33zm99EVVUUReG6667j61//OnfffXfq9X/913/l4MGDqcd2u52XXnop9fiWW24BkveFueGGG9i/fz8WiyXrev3VX/0Vd91117jnfvazn/Hwww9z3333MTg4SEVFRSowxcIn+zkKIcQkZFgthBCTkHAUQohJSDgKIcQkJByFEGISEo5CCDEJCUchhJiEhKMQQkxCwlEIISYh4SiEEJP4/8Dp6nLTdLj5AAAAAElFTkSuQmCC' align=\"left\" border=\"0\"></p>\n",
              "                </div>\n",
              "                <div class=\"column\" >\n",
              "                <center><h4> Basic Stats</h4></center>\n",
              "                <center><table border=\"1\" class=\"dataframe\">\n",
              "  <thead>\n",
              "    <tr style=\"text-align: right;\">\n",
              "      <th></th>\n",
              "      <th>Descript</th>\n",
              "      <th>Stats</th>\n",
              "    </tr>\n",
              "  </thead>\n",
              "  <tbody>\n",
              "    <tr>\n",
              "      <th></th>\n",
              "      <td>Distinct Values</td>\n",
              "      <td>4693</td>\n",
              "    </tr>\n",
              "    <tr>\n",
              "      <th></th>\n",
              "      <td>Missing Rate</td>\n",
              "      <td>21.26 %</td>\n",
              "    </tr>\n",
              "    <tr>\n",
              "      <th></th>\n",
              "      <td>Min Value</td>\n",
              "      <td>0.52</td>\n",
              "    </tr>\n",
              "    <tr>\n",
              "      <th></th>\n",
              "      <td>Max Value</td>\n",
              "      <td>203.31</td>\n",
              "    </tr>\n",
              "    <tr>\n",
              "      <th></th>\n",
              "      <td>Median Value</td>\n",
              "      <td>34.82</td>\n",
              "    </tr>\n",
              "  </tbody>\n",
              "</table></center>\n",
              "                </div>\n",
              "            </div>\n",
              "            </body>\n",
              "            </html>"
            ],
            "text/plain": [
              "<IPython.core.display.HTML object>"
            ]
          },
          "metadata": {
            "tags": []
          }
        }
      ]
    },
    {
      "cell_type": "code",
      "metadata": {
        "id": "k0MMz9FwTiP7",
        "colab_type": "code",
        "outputId": "6bb3e03a-d49a-4c55-e4a8-7a6d35645ccd",
        "colab": {
          "base_uri": "https://localhost:8080/",
          "height": 431
        }
      },
      "source": [
        "data.bivariate_plot('CLAGE',sort_by='default')"
      ],
      "execution_count": 0,
      "outputs": [
        {
          "output_type": "display_data",
          "data": {
            "text/html": [
              "\n",
              "        <style>\n",
              "        .aligncenter {text-align: center;}\n",
              "        </style>\n",
              "        <div class=\"row\">\n",
              "        <div class=\"column\">\n",
              "        \n",
              "        <p class=\"aligncenter\">\n",
              "        <img src='data:image/png;base64,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' align=\"left\" border=\"0\">\n",
              "        </p>\n",
              "        \n",
              "        </div>\n",
              "        <div class=\"column\"><center><h4> Bins/Groups for CLAGE</h4></center>\n",
              "        <center><table border=\"1\" class=\"dataframe\">\n",
              "  <thead>\n",
              "    <tr style=\"text-align: right;\">\n",
              "      <th></th>\n",
              "      <th>LABEL</th>\n",
              "      <th>VALUES</th>\n",
              "      <th>nobs</th>\n",
              "      <th>%obs</th>\n",
              "    </tr>\n",
              "  </thead>\n",
              "  <tbody>\n",
              "    <tr>\n",
              "      <th></th>\n",
              "      <td>BIN0</td>\n",
              "      <td>[0.0-84.55]</td>\n",
              "      <td>566</td>\n",
              "      <td>9.496644</td>\n",
              "    </tr>\n",
              "    <tr>\n",
              "      <th></th>\n",
              "      <td>BIN1</td>\n",
              "      <td>[84.58-105.77]</td>\n",
              "      <td>565</td>\n",
              "      <td>9.479866</td>\n",
              "    </tr>\n",
              "    <tr>\n",
              "      <th></th>\n",
              "      <td>BIN2</td>\n",
              "      <td>[105.77-122.82]</td>\n",
              "      <td>565</td>\n",
              "      <td>9.479866</td>\n",
              "    </tr>\n",
              "    <tr>\n",
              "      <th></th>\n",
              "      <td>BIN3</td>\n",
              "      <td>[122.83-145.1]</td>\n",
              "      <td>565</td>\n",
              "      <td>9.479866</td>\n",
              "    </tr>\n",
              "    <tr>\n",
              "      <th></th>\n",
              "      <td>BIN4</td>\n",
              "      <td>[145.1-173.47]</td>\n",
              "      <td>566</td>\n",
              "      <td>9.496644</td>\n",
              "    </tr>\n",
              "    <tr>\n",
              "      <th></th>\n",
              "      <td>BIN5</td>\n",
              "      <td>[173.49-193.08]</td>\n",
              "      <td>564</td>\n",
              "      <td>9.463087</td>\n",
              "    </tr>\n",
              "    <tr>\n",
              "      <th></th>\n",
              "      <td>BIN6</td>\n",
              "      <td>[193.12-215.61]</td>\n",
              "      <td>565</td>\n",
              "      <td>9.479866</td>\n",
              "    </tr>\n",
              "    <tr>\n",
              "      <th></th>\n",
              "      <td>BIN7</td>\n",
              "      <td>[215.75-247.04]</td>\n",
              "      <td>565</td>\n",
              "      <td>9.479866</td>\n",
              "    </tr>\n",
              "    <tr>\n",
              "      <th></th>\n",
              "      <td>BIN8</td>\n",
              "      <td>[247.1-295.67]</td>\n",
              "      <td>565</td>\n",
              "      <td>9.479866</td>\n",
              "    </tr>\n",
              "    <tr>\n",
              "      <th></th>\n",
              "      <td>BIN9</td>\n",
              "      <td>[295.72-1168.23]</td>\n",
              "      <td>566</td>\n",
              "      <td>9.496644</td>\n",
              "    </tr>\n",
              "    <tr>\n",
              "      <th></th>\n",
              "      <td>NULL</td>\n",
              "      <td></td>\n",
              "      <td>308</td>\n",
              "      <td>5.167785</td>\n",
              "    </tr>\n",
              "  </tbody>\n",
              "</table></center>\n",
              "        </div></div>\n",
              "        "
            ],
            "text/plain": [
              "<IPython.core.display.HTML object>"
            ]
          },
          "metadata": {
            "tags": []
          }
        }
      ]
    },
    {
      "cell_type": "code",
      "metadata": {
        "id": "J_AV0VRSceVg",
        "colab_type": "code",
        "outputId": "420fafee-5dd5-4950-db37-9275ecc497a6",
        "colab": {
          "base_uri": "https://localhost:8080/",
          "height": 173
        }
      },
      "source": [
        "DF.head(4)"
      ],
      "execution_count": 0,
      "outputs": [
        {
          "output_type": "execute_result",
          "data": {
            "text/html": [
              "<div>\n",
              "<style scoped>\n",
              "    .dataframe tbody tr th:only-of-type {\n",
              "        vertical-align: middle;\n",
              "    }\n",
              "\n",
              "    .dataframe tbody tr th {\n",
              "        vertical-align: top;\n",
              "    }\n",
              "\n",
              "    .dataframe thead th {\n",
              "        text-align: right;\n",
              "    }\n",
              "</style>\n",
              "<table border=\"1\" class=\"dataframe\">\n",
              "  <thead>\n",
              "    <tr style=\"text-align: right;\">\n",
              "      <th></th>\n",
              "      <th>BAD</th>\n",
              "      <th>LOAN</th>\n",
              "      <th>MORTDUE</th>\n",
              "      <th>VALUE</th>\n",
              "      <th>REASON</th>\n",
              "      <th>JOB</th>\n",
              "      <th>YOJ</th>\n",
              "      <th>DEROG</th>\n",
              "      <th>DELINQ</th>\n",
              "      <th>CLAGE</th>\n",
              "      <th>NINQ</th>\n",
              "      <th>CLNO</th>\n",
              "      <th>DEBTINC</th>\n",
              "    </tr>\n",
              "  </thead>\n",
              "  <tbody>\n",
              "    <tr>\n",
              "      <th>0</th>\n",
              "      <td>1</td>\n",
              "      <td>1100</td>\n",
              "      <td>25860.0</td>\n",
              "      <td>39025.0</td>\n",
              "      <td>HomeImp</td>\n",
              "      <td>Other</td>\n",
              "      <td>10.5</td>\n",
              "      <td>0.0</td>\n",
              "      <td>0.0</td>\n",
              "      <td>94.366667</td>\n",
              "      <td>1.0</td>\n",
              "      <td>9.0</td>\n",
              "      <td>NaN</td>\n",
              "    </tr>\n",
              "    <tr>\n",
              "      <th>1</th>\n",
              "      <td>1</td>\n",
              "      <td>1300</td>\n",
              "      <td>70053.0</td>\n",
              "      <td>68400.0</td>\n",
              "      <td>HomeImp</td>\n",
              "      <td>Other</td>\n",
              "      <td>7.0</td>\n",
              "      <td>0.0</td>\n",
              "      <td>2.0</td>\n",
              "      <td>121.833333</td>\n",
              "      <td>0.0</td>\n",
              "      <td>14.0</td>\n",
              "      <td>NaN</td>\n",
              "    </tr>\n",
              "    <tr>\n",
              "      <th>2</th>\n",
              "      <td>1</td>\n",
              "      <td>1500</td>\n",
              "      <td>13500.0</td>\n",
              "      <td>16700.0</td>\n",
              "      <td>HomeImp</td>\n",
              "      <td>Other</td>\n",
              "      <td>4.0</td>\n",
              "      <td>0.0</td>\n",
              "      <td>0.0</td>\n",
              "      <td>149.466667</td>\n",
              "      <td>1.0</td>\n",
              "      <td>10.0</td>\n",
              "      <td>NaN</td>\n",
              "    </tr>\n",
              "    <tr>\n",
              "      <th>3</th>\n",
              "      <td>1</td>\n",
              "      <td>1500</td>\n",
              "      <td>NaN</td>\n",
              "      <td>NaN</td>\n",
              "      <td>NaN</td>\n",
              "      <td>NaN</td>\n",
              "      <td>NaN</td>\n",
              "      <td>NaN</td>\n",
              "      <td>NaN</td>\n",
              "      <td>NaN</td>\n",
              "      <td>NaN</td>\n",
              "      <td>NaN</td>\n",
              "      <td>NaN</td>\n",
              "    </tr>\n",
              "  </tbody>\n",
              "</table>\n",
              "</div>"
            ],
            "text/plain": [
              "   BAD  LOAN  MORTDUE    VALUE   REASON    JOB   YOJ  DEROG  DELINQ  \\\n",
              "0  1    1100  25860.0  39025.0  HomeImp  Other  10.5  0.0    0.0      \n",
              "1  1    1300  70053.0  68400.0  HomeImp  Other  7.0   0.0    2.0      \n",
              "2  1    1500  13500.0  16700.0  HomeImp  Other  4.0   0.0    0.0      \n",
              "3  1    1500 NaN      NaN       NaN      NaN   NaN   NaN    NaN       \n",
              "\n",
              "        CLAGE  NINQ  CLNO  DEBTINC  \n",
              "0  94.366667   1.0   9.0  NaN       \n",
              "1  121.833333  0.0   14.0 NaN       \n",
              "2  149.466667  1.0   10.0 NaN       \n",
              "3 NaN         NaN   NaN   NaN       "
            ]
          },
          "metadata": {
            "tags": []
          },
          "execution_count": 10
        }
      ]
    },
    {
      "cell_type": "code",
      "metadata": {
        "id": "rKaali_VUHS_",
        "colab_type": "code",
        "outputId": "851d305e-056e-43f0-c0a9-78b537db026b",
        "colab": {
          "base_uri": "https://localhost:8080/",
          "height": 390
        }
      },
      "source": [
        "data.bivariate_analysis('DEBTINC')"
      ],
      "execution_count": 0,
      "outputs": [
        {
          "output_type": "execute_result",
          "data": {
            "text/html": [
              "<div>\n",
              "<style scoped>\n",
              "    .dataframe tbody tr th:only-of-type {\n",
              "        vertical-align: middle;\n",
              "    }\n",
              "\n",
              "    .dataframe tbody tr th {\n",
              "        vertical-align: top;\n",
              "    }\n",
              "\n",
              "    .dataframe thead th {\n",
              "        text-align: right;\n",
              "    }\n",
              "</style>\n",
              "<table border=\"1\" class=\"dataframe\">\n",
              "  <thead>\n",
              "    <tr style=\"text-align: right;\">\n",
              "      <th></th>\n",
              "      <th>variable</th>\n",
              "      <th>category</th>\n",
              "      <th>nobs</th>\n",
              "      <th>events</th>\n",
              "      <th>non_events</th>\n",
              "      <th>event_rate</th>\n",
              "      <th>event_pct</th>\n",
              "    </tr>\n",
              "  </thead>\n",
              "  <tbody>\n",
              "    <tr>\n",
              "      <th>0</th>\n",
              "      <td>DEBTINC</td>\n",
              "      <td>NULL</td>\n",
              "      <td>1267</td>\n",
              "      <td>786</td>\n",
              "      <td>481</td>\n",
              "      <td>62.04</td>\n",
              "      <td>66.11</td>\n",
              "    </tr>\n",
              "    <tr>\n",
              "      <th>1</th>\n",
              "      <td>DEBTINC</td>\n",
              "      <td>BIN0_[0.52-23.77]</td>\n",
              "      <td>470</td>\n",
              "      <td>35</td>\n",
              "      <td>435</td>\n",
              "      <td>7.45</td>\n",
              "      <td>2.94</td>\n",
              "    </tr>\n",
              "    <tr>\n",
              "      <th>2</th>\n",
              "      <td>DEBTINC</td>\n",
              "      <td>BIN1_[23.8-27.62]</td>\n",
              "      <td>469</td>\n",
              "      <td>20</td>\n",
              "      <td>449</td>\n",
              "      <td>4.26</td>\n",
              "      <td>1.68</td>\n",
              "    </tr>\n",
              "    <tr>\n",
              "      <th>3</th>\n",
              "      <td>DEBTINC</td>\n",
              "      <td>BIN2_[27.62-30.31]</td>\n",
              "      <td>469</td>\n",
              "      <td>20</td>\n",
              "      <td>449</td>\n",
              "      <td>4.26</td>\n",
              "      <td>1.68</td>\n",
              "    </tr>\n",
              "    <tr>\n",
              "      <th>4</th>\n",
              "      <td>DEBTINC</td>\n",
              "      <td>BIN3_[30.32-32.85]</td>\n",
              "      <td>469</td>\n",
              "      <td>31</td>\n",
              "      <td>438</td>\n",
              "      <td>6.61</td>\n",
              "      <td>2.61</td>\n",
              "    </tr>\n",
              "    <tr>\n",
              "      <th>5</th>\n",
              "      <td>DEBTINC</td>\n",
              "      <td>BIN4_[32.86-34.82]</td>\n",
              "      <td>470</td>\n",
              "      <td>28</td>\n",
              "      <td>442</td>\n",
              "      <td>5.96</td>\n",
              "      <td>2.35</td>\n",
              "    </tr>\n",
              "    <tr>\n",
              "      <th>6</th>\n",
              "      <td>DEBTINC</td>\n",
              "      <td>BIN5_[34.82-36.59]</td>\n",
              "      <td>469</td>\n",
              "      <td>38</td>\n",
              "      <td>431</td>\n",
              "      <td>8.10</td>\n",
              "      <td>3.20</td>\n",
              "    </tr>\n",
              "    <tr>\n",
              "      <th>7</th>\n",
              "      <td>DEBTINC</td>\n",
              "      <td>BIN6_[36.59-38.22]</td>\n",
              "      <td>469</td>\n",
              "      <td>34</td>\n",
              "      <td>435</td>\n",
              "      <td>7.25</td>\n",
              "      <td>2.86</td>\n",
              "    </tr>\n",
              "    <tr>\n",
              "      <th>8</th>\n",
              "      <td>DEBTINC</td>\n",
              "      <td>BIN7_[38.23-39.85]</td>\n",
              "      <td>469</td>\n",
              "      <td>27</td>\n",
              "      <td>442</td>\n",
              "      <td>5.76</td>\n",
              "      <td>2.27</td>\n",
              "    </tr>\n",
              "    <tr>\n",
              "      <th>9</th>\n",
              "      <td>DEBTINC</td>\n",
              "      <td>BIN8_[39.85-41.44]</td>\n",
              "      <td>469</td>\n",
              "      <td>38</td>\n",
              "      <td>431</td>\n",
              "      <td>8.10</td>\n",
              "      <td>3.20</td>\n",
              "    </tr>\n",
              "    <tr>\n",
              "      <th>10</th>\n",
              "      <td>DEBTINC</td>\n",
              "      <td>BIN9_[41.44-203.31]</td>\n",
              "      <td>470</td>\n",
              "      <td>132</td>\n",
              "      <td>338</td>\n",
              "      <td>28.09</td>\n",
              "      <td>11.10</td>\n",
              "    </tr>\n",
              "  </tbody>\n",
              "</table>\n",
              "</div>"
            ],
            "text/plain": [
              "   variable             category  nobs  events  non_events  event_rate  \\\n",
              "0   DEBTINC  NULL                 1267  786     481         62.04        \n",
              "1   DEBTINC  BIN0_[0.52-23.77]    470   35      435         7.45         \n",
              "2   DEBTINC  BIN1_[23.8-27.62]    469   20      449         4.26         \n",
              "3   DEBTINC  BIN2_[27.62-30.31]   469   20      449         4.26         \n",
              "4   DEBTINC  BIN3_[30.32-32.85]   469   31      438         6.61         \n",
              "5   DEBTINC  BIN4_[32.86-34.82]   470   28      442         5.96         \n",
              "6   DEBTINC  BIN5_[34.82-36.59]   469   38      431         8.10         \n",
              "7   DEBTINC  BIN6_[36.59-38.22]   469   34      435         7.25         \n",
              "8   DEBTINC  BIN7_[38.23-39.85]   469   27      442         5.76         \n",
              "9   DEBTINC  BIN8_[39.85-41.44]   469   38      431         8.10         \n",
              "10  DEBTINC  BIN9_[41.44-203.31]  470   132     338         28.09        \n",
              "\n",
              "    event_pct  \n",
              "0   66.11      \n",
              "1   2.94       \n",
              "2   1.68       \n",
              "3   1.68       \n",
              "4   2.61       \n",
              "5   2.35       \n",
              "6   3.20       \n",
              "7   2.86       \n",
              "8   2.27       \n",
              "9   3.20       \n",
              "10  11.10      "
            ]
          },
          "metadata": {
            "tags": []
          },
          "execution_count": 11
        }
      ]
    },
    {
      "cell_type": "code",
      "metadata": {
        "id": "weKCxTiAUao2",
        "colab_type": "code",
        "outputId": "90dc6cd8-b423-48eb-81ab-d56632c8eeff",
        "colab": {
          "base_uri": "https://localhost:8080/",
          "height": 421
        }
      },
      "source": [
        "data.feature_importance(plot=False)\n",
        "##CHECK FOR THIS ERROR"
      ],
      "execution_count": 0,
      "outputs": [
        {
          "output_type": "execute_result",
          "data": {
            "text/html": [
              "<div>\n",
              "<style scoped>\n",
              "    .dataframe tbody tr th:only-of-type {\n",
              "        vertical-align: middle;\n",
              "    }\n",
              "\n",
              "    .dataframe tbody tr th {\n",
              "        vertical-align: top;\n",
              "    }\n",
              "\n",
              "    .dataframe thead th {\n",
              "        text-align: right;\n",
              "    }\n",
              "</style>\n",
              "<table border=\"1\" class=\"dataframe\">\n",
              "  <thead>\n",
              "    <tr style=\"text-align: right;\">\n",
              "      <th></th>\n",
              "      <th>var</th>\n",
              "      <th>feat_imp</th>\n",
              "      <th>imp_std</th>\n",
              "      <th>excess</th>\n",
              "    </tr>\n",
              "  </thead>\n",
              "  <tbody>\n",
              "    <tr>\n",
              "      <th>0</th>\n",
              "      <td>DEBTINC</td>\n",
              "      <td>0.82877</td>\n",
              "      <td>0.02007</td>\n",
              "      <td>0.32877</td>\n",
              "    </tr>\n",
              "    <tr>\n",
              "      <th>1</th>\n",
              "      <td>DELINQ</td>\n",
              "      <td>0.66476</td>\n",
              "      <td>0.02047</td>\n",
              "      <td>0.16476</td>\n",
              "    </tr>\n",
              "    <tr>\n",
              "      <th>2</th>\n",
              "      <td>CLAGE</td>\n",
              "      <td>0.62222</td>\n",
              "      <td>0.01606</td>\n",
              "      <td>0.12222</td>\n",
              "    </tr>\n",
              "    <tr>\n",
              "      <th>3</th>\n",
              "      <td>DEROG</td>\n",
              "      <td>0.61923</td>\n",
              "      <td>0.00635</td>\n",
              "      <td>0.11923</td>\n",
              "    </tr>\n",
              "    <tr>\n",
              "      <th>4</th>\n",
              "      <td>LOAN</td>\n",
              "      <td>0.61543</td>\n",
              "      <td>0.01572</td>\n",
              "      <td>0.11543</td>\n",
              "    </tr>\n",
              "    <tr>\n",
              "      <th>5</th>\n",
              "      <td>VALUE</td>\n",
              "      <td>0.61051</td>\n",
              "      <td>0.00999</td>\n",
              "      <td>0.11051</td>\n",
              "    </tr>\n",
              "    <tr>\n",
              "      <th>6</th>\n",
              "      <td>NINQ</td>\n",
              "      <td>0.59822</td>\n",
              "      <td>0.00851</td>\n",
              "      <td>0.09822</td>\n",
              "    </tr>\n",
              "    <tr>\n",
              "      <th>7</th>\n",
              "      <td>YOJ</td>\n",
              "      <td>0.58390</td>\n",
              "      <td>0.01528</td>\n",
              "      <td>0.08390</td>\n",
              "    </tr>\n",
              "    <tr>\n",
              "      <th>8</th>\n",
              "      <td>CLNO</td>\n",
              "      <td>0.57106</td>\n",
              "      <td>0.01902</td>\n",
              "      <td>0.07106</td>\n",
              "    </tr>\n",
              "    <tr>\n",
              "      <th>9</th>\n",
              "      <td>JOB</td>\n",
              "      <td>0.55933</td>\n",
              "      <td>0.01392</td>\n",
              "      <td>0.05933</td>\n",
              "    </tr>\n",
              "    <tr>\n",
              "      <th>10</th>\n",
              "      <td>MORTDUE</td>\n",
              "      <td>0.55330</td>\n",
              "      <td>0.01890</td>\n",
              "      <td>0.05330</td>\n",
              "    </tr>\n",
              "    <tr>\n",
              "      <th>11</th>\n",
              "      <td>REASON</td>\n",
              "      <td>0.52149</td>\n",
              "      <td>0.00965</td>\n",
              "      <td>0.02149</td>\n",
              "    </tr>\n",
              "  </tbody>\n",
              "</table>\n",
              "</div>"
            ],
            "text/plain": [
              "        var  feat_imp  imp_std   excess\n",
              "0   DEBTINC  0.82877   0.02007  0.32877\n",
              "1   DELINQ   0.66476   0.02047  0.16476\n",
              "2   CLAGE    0.62222   0.01606  0.12222\n",
              "3   DEROG    0.61923   0.00635  0.11923\n",
              "4   LOAN     0.61543   0.01572  0.11543\n",
              "5   VALUE    0.61051   0.00999  0.11051\n",
              "6   NINQ     0.59822   0.00851  0.09822\n",
              "7   YOJ      0.58390   0.01528  0.08390\n",
              "8   CLNO     0.57106   0.01902  0.07106\n",
              "9   JOB      0.55933   0.01392  0.05933\n",
              "10  MORTDUE  0.55330   0.01890  0.05330\n",
              "11  REASON   0.52149   0.00965  0.02149"
            ]
          },
          "metadata": {
            "tags": []
          },
          "execution_count": 12
        }
      ]
    },
    {
      "cell_type": "code",
      "metadata": {
        "id": "Pdrmylx9Urzd",
        "colab_type": "code",
        "outputId": "ad7d84ca-c325-45e8-8a00-de3a5876ed2f",
        "colab": {
          "base_uri": "https://localhost:8080/",
          "height": 421
        }
      },
      "source": [
        "data.information_value()"
      ],
      "execution_count": 0,
      "outputs": [
        {
          "output_type": "execute_result",
          "data": {
            "text/html": [
              "<div>\n",
              "<style scoped>\n",
              "    .dataframe tbody tr th:only-of-type {\n",
              "        vertical-align: middle;\n",
              "    }\n",
              "\n",
              "    .dataframe tbody tr th {\n",
              "        vertical-align: top;\n",
              "    }\n",
              "\n",
              "    .dataframe thead th {\n",
              "        text-align: right;\n",
              "    }\n",
              "</style>\n",
              "<table border=\"1\" class=\"dataframe\">\n",
              "  <thead>\n",
              "    <tr style=\"text-align: right;\">\n",
              "      <th></th>\n",
              "      <th>variable</th>\n",
              "      <th>info_value</th>\n",
              "    </tr>\n",
              "  </thead>\n",
              "  <tbody>\n",
              "    <tr>\n",
              "      <th>0</th>\n",
              "      <td>DEBTINC</td>\n",
              "      <td>1.877152</td>\n",
              "    </tr>\n",
              "    <tr>\n",
              "      <th>1</th>\n",
              "      <td>DELINQ</td>\n",
              "      <td>0.621145</td>\n",
              "    </tr>\n",
              "    <tr>\n",
              "      <th>2</th>\n",
              "      <td>VALUE</td>\n",
              "      <td>0.470748</td>\n",
              "    </tr>\n",
              "    <tr>\n",
              "      <th>3</th>\n",
              "      <td>DEROG</td>\n",
              "      <td>0.453518</td>\n",
              "    </tr>\n",
              "    <tr>\n",
              "      <th>4</th>\n",
              "      <td>CLAGE</td>\n",
              "      <td>0.230641</td>\n",
              "    </tr>\n",
              "    <tr>\n",
              "      <th>5</th>\n",
              "      <td>NINQ</td>\n",
              "      <td>0.228890</td>\n",
              "    </tr>\n",
              "    <tr>\n",
              "      <th>6</th>\n",
              "      <td>LOAN</td>\n",
              "      <td>0.160156</td>\n",
              "    </tr>\n",
              "    <tr>\n",
              "      <th>7</th>\n",
              "      <td>JOB</td>\n",
              "      <td>0.123731</td>\n",
              "    </tr>\n",
              "    <tr>\n",
              "      <th>8</th>\n",
              "      <td>YOJ</td>\n",
              "      <td>0.083534</td>\n",
              "    </tr>\n",
              "    <tr>\n",
              "      <th>9</th>\n",
              "      <td>CLNO</td>\n",
              "      <td>0.079104</td>\n",
              "    </tr>\n",
              "    <tr>\n",
              "      <th>10</th>\n",
              "      <td>MORTDUE</td>\n",
              "      <td>0.048921</td>\n",
              "    </tr>\n",
              "    <tr>\n",
              "      <th>11</th>\n",
              "      <td>REASON</td>\n",
              "      <td>0.008618</td>\n",
              "    </tr>\n",
              "  </tbody>\n",
              "</table>\n",
              "</div>"
            ],
            "text/plain": [
              "   variable  info_value\n",
              "0   DEBTINC  1.877152  \n",
              "1   DELINQ   0.621145  \n",
              "2   VALUE    0.470748  \n",
              "3   DEROG    0.453518  \n",
              "4   CLAGE    0.230641  \n",
              "5   NINQ     0.228890  \n",
              "6   LOAN     0.160156  \n",
              "7   JOB      0.123731  \n",
              "8   YOJ      0.083534  \n",
              "9   CLNO     0.079104  \n",
              "10  MORTDUE  0.048921  \n",
              "11  REASON   0.008618  "
            ]
          },
          "metadata": {
            "tags": []
          },
          "execution_count": 13
        }
      ]
    },
    {
      "cell_type": "code",
      "metadata": {
        "id": "VVqHyBotVpQg",
        "colab_type": "code",
        "outputId": "bd2f7635-3cef-4b44-8c3b-b18502ffbc44",
        "colab": {
          "base_uri": "https://localhost:8080/",
          "height": 213
        }
      },
      "source": [
        "\"\"\"\n",
        "** Imputation Strategy **\n",
        "For OBJECT   : 1) We will impute with Mode Value since MR<10%, if higher, create new category\n",
        "For NUMERICS : 1) Impute using -9999 (Extreme Value Imputation) for anything with MR>8%  \n",
        "               2) For everything else, will impute using Median values\n",
        "\"\"\"\n",
        "edd_df = data.edd()\n",
        "\n",
        "##OBJECT\n",
        "var_list = edd_df[edd_df['data_type']=='object']['var'].tolist()\n",
        "print(var_list)\n",
        "for var in var_list:\n",
        "  DF[var].fillna(DF[var].mode()[0],inplace=True)\n",
        "\n",
        "##NUMERICS: Extreme Value Imputation \n",
        "var_list = edd_df[(edd_df['missing_rate']>=8)&(edd_df['data_type']!='object')]['var'].tolist()\n",
        "print(var_list)\n",
        "for var in var_list:\n",
        "  DF[var].fillna(-9999,inplace=True)\n",
        "\n",
        "##NUMERICS: Median Imputation \n",
        "var_list = edd_df[(edd_df['missing_rate']<8)&(edd_df['data_type']!='object')]['var'].tolist()\n",
        "print(var_list)\n",
        "for var in var_list:\n",
        "  DF[var].fillna(DF[var].median(),inplace=True)\n",
        "\n",
        "##CREATING DUMMIES USING APPLY LAMBDA\n",
        "DF['REASON_DEBTCON_IND'] = DF['REASON'].apply(lambda x: 1 if x=='DebtCon' else 0)\n",
        "DF['REASON_HOMEIMP_IND'] = DF['REASON'].apply(lambda x: 1 if x=='HomeImp' else 0)\n",
        "DF['JOB_OTHER']          = DF['JOB'].apply(lambda x: 1 if x=='Other'   else 0)\n",
        "DF['JOB_PROF']           = DF['JOB'].apply(lambda x: 1 if x=='ProfExe' else 0) \n",
        "DF['JOB_OFFICE']         = DF['JOB'].apply(lambda x: 1 if x=='Office'  else 0)\n",
        "DF['JOB_MGR_SELF_SALES'] = DF['JOB'].apply(lambda x: 1 if x in ['Mgr','Self','Sales'] else 0)\n",
        "DF.drop(['REASON','JOB'],axis=1,inplace=True)\n",
        "\n",
        "DF.head(3)"
      ],
      "execution_count": 0,
      "outputs": [
        {
          "output_type": "stream",
          "text": [
            "['JOB', 'REASON']\n",
            "[]\n",
            "['DEBTINC', 'DEROG', 'DELINQ', 'MORTDUE', 'YOJ', 'NINQ', 'CLAGE', 'CLNO', 'VALUE', 'BAD', 'LOAN']\n"
          ],
          "name": "stdout"
        },
        {
          "output_type": "execute_result",
          "data": {
            "text/html": [
              "<div>\n",
              "<style scoped>\n",
              "    .dataframe tbody tr th:only-of-type {\n",
              "        vertical-align: middle;\n",
              "    }\n",
              "\n",
              "    .dataframe tbody tr th {\n",
              "        vertical-align: top;\n",
              "    }\n",
              "\n",
              "    .dataframe thead th {\n",
              "        text-align: right;\n",
              "    }\n",
              "</style>\n",
              "<table border=\"1\" class=\"dataframe\">\n",
              "  <thead>\n",
              "    <tr style=\"text-align: right;\">\n",
              "      <th></th>\n",
              "      <th>BAD</th>\n",
              "      <th>LOAN</th>\n",
              "      <th>MORTDUE</th>\n",
              "      <th>VALUE</th>\n",
              "      <th>YOJ</th>\n",
              "      <th>DEROG</th>\n",
              "      <th>DELINQ</th>\n",
              "      <th>CLAGE</th>\n",
              "      <th>NINQ</th>\n",
              "      <th>CLNO</th>\n",
              "      <th>DEBTINC</th>\n",
              "      <th>REASON_DEBTCON_IND</th>\n",
              "      <th>REASON_HOMEIMP_IND</th>\n",
              "      <th>JOB_OTHER</th>\n",
              "      <th>JOB_PROF</th>\n",
              "      <th>JOB_OFFICE</th>\n",
              "      <th>JOB_MGR_SELF_SALES</th>\n",
              "    </tr>\n",
              "  </thead>\n",
              "  <tbody>\n",
              "    <tr>\n",
              "      <th>0</th>\n",
              "      <td>1</td>\n",
              "      <td>1100</td>\n",
              "      <td>25860.0</td>\n",
              "      <td>39025.0</td>\n",
              "      <td>10.5</td>\n",
              "      <td>0.0</td>\n",
              "      <td>0.0</td>\n",
              "      <td>94.366667</td>\n",
              "      <td>1.0</td>\n",
              "      <td>9.0</td>\n",
              "      <td>34.818262</td>\n",
              "      <td>0</td>\n",
              "      <td>1</td>\n",
              "      <td>1</td>\n",
              "      <td>0</td>\n",
              "      <td>0</td>\n",
              "      <td>0</td>\n",
              "    </tr>\n",
              "    <tr>\n",
              "      <th>1</th>\n",
              "      <td>1</td>\n",
              "      <td>1300</td>\n",
              "      <td>70053.0</td>\n",
              "      <td>68400.0</td>\n",
              "      <td>7.0</td>\n",
              "      <td>0.0</td>\n",
              "      <td>2.0</td>\n",
              "      <td>121.833333</td>\n",
              "      <td>0.0</td>\n",
              "      <td>14.0</td>\n",
              "      <td>34.818262</td>\n",
              "      <td>0</td>\n",
              "      <td>1</td>\n",
              "      <td>1</td>\n",
              "      <td>0</td>\n",
              "      <td>0</td>\n",
              "      <td>0</td>\n",
              "    </tr>\n",
              "    <tr>\n",
              "      <th>2</th>\n",
              "      <td>1</td>\n",
              "      <td>1500</td>\n",
              "      <td>13500.0</td>\n",
              "      <td>16700.0</td>\n",
              "      <td>4.0</td>\n",
              "      <td>0.0</td>\n",
              "      <td>0.0</td>\n",
              "      <td>149.466667</td>\n",
              "      <td>1.0</td>\n",
              "      <td>10.0</td>\n",
              "      <td>34.818262</td>\n",
              "      <td>0</td>\n",
              "      <td>1</td>\n",
              "      <td>1</td>\n",
              "      <td>0</td>\n",
              "      <td>0</td>\n",
              "      <td>0</td>\n",
              "    </tr>\n",
              "  </tbody>\n",
              "</table>\n",
              "</div>"
            ],
            "text/plain": [
              "   BAD  LOAN  MORTDUE    VALUE   YOJ  DEROG  DELINQ       CLAGE  NINQ  CLNO  \\\n",
              "0  1    1100  25860.0  39025.0  10.5  0.0    0.0     94.366667   1.0   9.0    \n",
              "1  1    1300  70053.0  68400.0  7.0   0.0    2.0     121.833333  0.0   14.0   \n",
              "2  1    1500  13500.0  16700.0  4.0   0.0    0.0     149.466667  1.0   10.0   \n",
              "\n",
              "     DEBTINC  REASON_DEBTCON_IND  REASON_HOMEIMP_IND  JOB_OTHER  JOB_PROF  \\\n",
              "0  34.818262  0                   1                   1          0          \n",
              "1  34.818262  0                   1                   1          0          \n",
              "2  34.818262  0                   1                   1          0          \n",
              "\n",
              "   JOB_OFFICE  JOB_MGR_SELF_SALES  \n",
              "0  0           0                   \n",
              "1  0           0                   \n",
              "2  0           0                   "
            ]
          },
          "metadata": {
            "tags": []
          },
          "execution_count": 5
        }
      ]
    },
    {
      "cell_type": "code",
      "metadata": {
        "id": "P40SyHvkXDY-",
        "colab_type": "code",
        "colab": {}
      },
      "source": [
        "\"\"\"STEP 02: Basic Model Training \"\"\"\n",
        "from sklearn.tree import DecisionTreeClassifier\n",
        "from sklearn.ensemble import RandomForestClassifier, GradientBoostingClassifier "
      ],
      "execution_count": 0,
      "outputs": []
    },
    {
      "cell_type": "code",
      "metadata": {
        "id": "AdpbeMutXKWG",
        "colab_type": "code",
        "colab": {}
      },
      "source": [
        "models = {'DTM':DecisionTreeClassifier(),\n",
        "          'GBM':GradientBoostingClassifier(),\n",
        "          'RFM':RandomForestClassifier()}\n",
        "feats = [x for x in list(DF.columns) if x not in ['BAD']]\n",
        "data2 = Jarvis(DF,'BAD')"
      ],
      "execution_count": 0,
      "outputs": []
    },
    {
      "cell_type": "code",
      "metadata": {
        "id": "-siUsSEjXRIf",
        "colab_type": "code",
        "outputId": "1e05b62e-70bd-48f1-b3a1-2378d33e875c",
        "colab": {
          "base_uri": "https://localhost:8080/",
          "height": 272
        }
      },
      "source": [
        "data2.model_benchmarking(models,feats)"
      ],
      "execution_count": 0,
      "outputs": [
        {
          "output_type": "stream",
          "text": [
            "MODEL: DTM| TRAIN LEN: 4768| TEST LEN: 1192| TRAIN ER: 19.95%| TEST ER: 19.97%| TRAIN AUC:1.00000| TEST AUC:0.78370\n",
            "MODEL: DTM| TRAIN LEN: 4768| TEST LEN: 1192| TRAIN ER: 19.95%| TEST ER: 19.97%| TRAIN AUC:1.00000| TEST AUC:0.77107\n",
            "MODEL: DTM| TRAIN LEN: 4768| TEST LEN: 1192| TRAIN ER: 19.95%| TEST ER: 19.97%| TRAIN AUC:1.00000| TEST AUC:0.78474\n",
            "MODEL: DTM| TRAIN LEN: 4768| TEST LEN: 1192| TRAIN ER: 19.95%| TEST ER: 19.97%| TRAIN AUC:1.00000| TEST AUC:0.80050\n",
            "MODEL: DTM| TRAIN LEN: 4768| TEST LEN: 1192| TRAIN ER: 19.97%| TEST ER: 19.88%| TRAIN AUC:1.00000| TEST AUC:0.79611\n",
            "MODEL: GBM| TRAIN LEN: 4768| TEST LEN: 1192| TRAIN ER: 19.95%| TEST ER: 19.97%| TRAIN AUC:0.95545| TEST AUC:0.92866\n",
            "MODEL: GBM| TRAIN LEN: 4768| TEST LEN: 1192| TRAIN ER: 19.95%| TEST ER: 19.97%| TRAIN AUC:0.95261| TEST AUC:0.93932\n",
            "MODEL: GBM| TRAIN LEN: 4768| TEST LEN: 1192| TRAIN ER: 19.95%| TEST ER: 19.97%| TRAIN AUC:0.95683| TEST AUC:0.93819\n",
            "MODEL: GBM| TRAIN LEN: 4768| TEST LEN: 1192| TRAIN ER: 19.95%| TEST ER: 19.97%| TRAIN AUC:0.95472| TEST AUC:0.93587\n",
            "MODEL: GBM| TRAIN LEN: 4768| TEST LEN: 1192| TRAIN ER: 19.97%| TEST ER: 19.88%| TRAIN AUC:0.95668| TEST AUC:0.91511\n",
            "MODEL: RFM| TRAIN LEN: 4768| TEST LEN: 1192| TRAIN ER: 19.95%| TEST ER: 19.97%| TRAIN AUC:1.00000| TEST AUC:0.95204\n",
            "MODEL: RFM| TRAIN LEN: 4768| TEST LEN: 1192| TRAIN ER: 19.95%| TEST ER: 19.97%| TRAIN AUC:1.00000| TEST AUC:0.96320\n",
            "MODEL: RFM| TRAIN LEN: 4768| TEST LEN: 1192| TRAIN ER: 19.95%| TEST ER: 19.97%| TRAIN AUC:1.00000| TEST AUC:0.97478\n",
            "MODEL: RFM| TRAIN LEN: 4768| TEST LEN: 1192| TRAIN ER: 19.95%| TEST ER: 19.97%| TRAIN AUC:1.00000| TEST AUC:0.96689\n",
            "MODEL: RFM| TRAIN LEN: 4768| TEST LEN: 1192| TRAIN ER: 19.97%| TEST ER: 19.88%| TRAIN AUC:1.00000| TEST AUC:0.97186\n"
          ],
          "name": "stdout"
        }
      ]
    },
    {
      "cell_type": "code",
      "metadata": {
        "id": "ovtoOKUIXcxQ",
        "colab_type": "code",
        "outputId": "4cc092e3-5c53-4f95-86fc-6e22d1ad85b1",
        "colab": {
          "base_uri": "https://localhost:8080/",
          "height": 482
        }
      },
      "source": [
        "data2.model_benchmark_plot()"
      ],
      "execution_count": 0,
      "outputs": [
        {
          "output_type": "display_data",
          "data": {
            "image/png": "[encoded data removed]",
            "text/plain": [
              "<Figure size 576x576 with 1 Axes>"
            ]
          },
          "metadata": {
            "tags": []
          }
        }
      ]
    },
    {
      "cell_type": "code",
      "metadata": {
        "id": "v7IKGnPiYZ_T",
        "colab_type": "code",
        "outputId": "cb9cd946-3dc1-4b63-ac2f-e36893ef231a",
        "colab": {
          "base_uri": "https://localhost:8080/",
          "height": 421
        }
      },
      "source": [
        "data.predictive_missing_value(plot=False)"
      ],
      "execution_count": 0,
      "outputs": [
        {
          "output_type": "execute_result",
          "data": {
            "text/html": [
              "<div>\n",
              "<style scoped>\n",
              "    .dataframe tbody tr th:only-of-type {\n",
              "        vertical-align: middle;\n",
              "    }\n",
              "\n",
              "    .dataframe tbody tr th {\n",
              "        vertical-align: top;\n",
              "    }\n",
              "\n",
              "    .dataframe thead th {\n",
              "        text-align: right;\n",
              "    }\n",
              "</style>\n",
              "<table border=\"1\" class=\"dataframe\">\n",
              "  <thead>\n",
              "    <tr style=\"text-align: right;\">\n",
              "      <th></th>\n",
              "      <th>var</th>\n",
              "      <th>missing_rt</th>\n",
              "      <th>gini</th>\n",
              "    </tr>\n",
              "  </thead>\n",
              "  <tbody>\n",
              "    <tr>\n",
              "      <th>0</th>\n",
              "      <td>DEBTINC</td>\n",
              "      <td>0.21</td>\n",
              "      <td>0.77625</td>\n",
              "    </tr>\n",
              "    <tr>\n",
              "      <th>1</th>\n",
              "      <td>VALUE</td>\n",
              "      <td>0.02</td>\n",
              "      <td>0.70147</td>\n",
              "    </tr>\n",
              "    <tr>\n",
              "      <th>2</th>\n",
              "      <td>DEROG</td>\n",
              "      <td>0.12</td>\n",
              "      <td>0.68219</td>\n",
              "    </tr>\n",
              "    <tr>\n",
              "      <th>3</th>\n",
              "      <td>JOB</td>\n",
              "      <td>0.05</td>\n",
              "      <td>0.68195</td>\n",
              "    </tr>\n",
              "    <tr>\n",
              "      <th>4</th>\n",
              "      <td>DELINQ</td>\n",
              "      <td>0.10</td>\n",
              "      <td>0.68183</td>\n",
              "    </tr>\n",
              "    <tr>\n",
              "      <th>5</th>\n",
              "      <td>YOJ</td>\n",
              "      <td>0.09</td>\n",
              "      <td>0.68162</td>\n",
              "    </tr>\n",
              "    <tr>\n",
              "      <th>6</th>\n",
              "      <td>NINQ</td>\n",
              "      <td>0.09</td>\n",
              "      <td>0.68112</td>\n",
              "    </tr>\n",
              "    <tr>\n",
              "      <th>7</th>\n",
              "      <td>CLAGE</td>\n",
              "      <td>0.05</td>\n",
              "      <td>0.68092</td>\n",
              "    </tr>\n",
              "    <tr>\n",
              "      <th>8</th>\n",
              "      <td>CLNO</td>\n",
              "      <td>0.04</td>\n",
              "      <td>0.68072</td>\n",
              "    </tr>\n",
              "    <tr>\n",
              "      <th>9</th>\n",
              "      <td>MORTDUE</td>\n",
              "      <td>0.09</td>\n",
              "      <td>0.68061</td>\n",
              "    </tr>\n",
              "    <tr>\n",
              "      <th>10</th>\n",
              "      <td>REASON</td>\n",
              "      <td>0.04</td>\n",
              "      <td>0.68061</td>\n",
              "    </tr>\n",
              "    <tr>\n",
              "      <th>11</th>\n",
              "      <td>LOAN</td>\n",
              "      <td>0.00</td>\n",
              "      <td>0.68060</td>\n",
              "    </tr>\n",
              "  </tbody>\n",
              "</table>\n",
              "</div>"
            ],
            "text/plain": [
              "        var  missing_rt     gini\n",
              "0   DEBTINC  0.21        0.77625\n",
              "1   VALUE    0.02        0.70147\n",
              "2   DEROG    0.12        0.68219\n",
              "3   JOB      0.05        0.68195\n",
              "4   DELINQ   0.10        0.68183\n",
              "5   YOJ      0.09        0.68162\n",
              "6   NINQ     0.09        0.68112\n",
              "7   CLAGE    0.05        0.68092\n",
              "8   CLNO     0.04        0.68072\n",
              "9   MORTDUE  0.09        0.68061\n",
              "10  REASON   0.04        0.68061\n",
              "11  LOAN     0.00        0.68060"
            ]
          },
          "metadata": {
            "tags": []
          },
          "execution_count": 20
        }
      ]
    },
    {
      "cell_type": "code",
      "metadata": {
        "id": "VSXUgegWYlFQ",
        "colab_type": "code",
        "outputId": "e727236b-e07d-4da3-8025-e63bd3d06233",
        "colab": {
          "base_uri": "https://localhost:8080/",
          "height": 136
        }
      },
      "source": [
        "test = Utils()"
      ],
      "execution_count": 0,
      "outputs": [
        {
          "output_type": "stream",
          "text": [
            " REPOSITORY\n",
            "            1. confusion_matrix_report\n",
            "            2. print_model_feature_importance\n",
            "            3. cheat_sheet\n",
            "                A. 'basic_model'\n",
            "                B. 'grid_search'\n",
            "                C. 'tree_params' \n"
          ],
          "name": "stdout"
        }
      ]
    },
    {
      "cell_type": "code",
      "metadata": {
        "id": "-8UCKNy5eOXP",
        "colab_type": "code",
        "outputId": "4896be35-a403-402f-c6e9-75e3d73295ac",
        "colab": {
          "base_uri": "https://localhost:8080/",
          "height": 357
        }
      },
      "source": [
        "test.cheat_sheet('basic_model')"
      ],
      "execution_count": 0,
      "outputs": [
        {
          "output_type": "stream",
          "text": [
            "\n",
            "            ********************************\n",
            "            BASIC MODEL CREATION CHEAT SHEET\n",
            "            ********************************\n",
            "\n",
            "            from sklearn.model_selection import train_test_split\n",
            "            from sklearn.ensemble import GradientBoostingClassifier, RandomForestClassifier, XGBoostClassifier\n",
            "            from sklearn.tree import DecisionTreeClassifier\n",
            "\n",
            "            model = GradientBoostingClassifier()\n",
            "\n",
            "            X = DF[feature_list]\n",
            "            y = DF['BAD'] #DV SERIES FOR STRATIFY\n",
            "\n",
            "            X_train, X_test, y_train, y_test = train_test_split(X, y, test_size=0.333, random_state=713, stratify=y)\n",
            "\n",
            "            model.fit(X_train,y_train)\n",
            "\n",
            "            pred_test  = list(model.predict_proba(X_test)[:,1])\n",
            "            pred_train = list(model.predict_proba(X_train)[:,1])\n"
          ],
          "name": "stdout"
        }
      ]
    },
    {
      "cell_type": "code",
      "metadata": {
        "id": "TXJOJl9keRW6",
        "colab_type": "code",
        "colab": {}
      },
      "source": [
        "from sklearn.model_selection import train_test_split\n",
        "from sklearn.ensemble import GradientBoostingClassifier, RandomForestClassifier\n",
        "from sklearn.tree import DecisionTreeClassifier\n",
        "\n",
        "model = RandomForestClassifier()\n",
        "\n",
        "feature_list = [x for x in list(DF.columns) if x not in ['BAD']]\n",
        "\n",
        "X = DF[feature_list]\n",
        "y = DF['BAD'] #DV SERIES FOR STRATIFY\n",
        "\n",
        "X_train, X_test, y_train, y_test = train_test_split(X, y, test_size=0.333, random_state=713, stratify=y)\n",
        "\n",
        "model.fit(X_train,y_train)\n",
        "\n",
        "pred_test  = list(model.predict_proba(X_test)[:,1])\n",
        "pred_train = list(model.predict_proba(X_train)[:,1])"
      ],
      "execution_count": 0,
      "outputs": []
    },
    {
      "cell_type": "code",
      "metadata": {
        "id": "dvWovdUzeelF",
        "colab_type": "code",
        "outputId": "eb92ec27-66a1-424b-9a2c-16f72ffda21b",
        "colab": {
          "base_uri": "https://localhost:8080/",
          "height": 471
        }
      },
      "source": [
        "data.model_evaluation_report(y_test.tolist(),{'RFM':pred_test})"
      ],
      "execution_count": 0,
      "outputs": [
        {
          "output_type": "stream",
          "text": [
            "  variable          category  nobs  events  non_events  event_rate  event_pct  \\\n",
            "0  PRED     BIN0_[0.0-0.0]    199   1       198         0.50        0.25        \n",
            "1  PRED     BIN1_[0.0-0.01]   198   1       197         0.51        0.25        \n",
            "2  PRED     BIN2_[0.01-0.02]  199   0       199         0.00        0.00        \n",
            "3  PRED     BIN3_[0.02-0.03]  198   2       196         1.01        0.51        \n",
            "4  PRED     BIN4_[0.03-0.05]  199   1       198         0.50        0.25        \n",
            "5  PRED     BIN5_[0.05-0.08]  198   3       195         1.52        0.76        \n",
            "6  PRED     BIN6_[0.08-0.17]  198   16      182         8.08        4.04        \n",
            "7  PRED     BIN7_[0.17-0.35]  199   51      148         25.63       12.88       \n",
            "8  PRED     BIN8_[0.35-0.63]  198   133     65          67.17       33.59       \n",
            "9  PRED     BIN9_[0.63-0.98]  199   188     11          94.47       47.47       \n",
            "\n",
            "    event_%  non_event_%  cum_event_%  cum_non_event_%      diff  \n",
            "0  0.002525  0.124607     0.002525     0.124607         0.122081  \n",
            "1  0.002525  0.123977     0.005051     0.248584         0.243534  \n",
            "2  0.000000  0.125236     0.005051     0.373820         0.368770  \n",
            "3  0.005051  0.123348     0.010101     0.497168         0.487067  \n",
            "4  0.002525  0.124607     0.012626     0.621775         0.609148  \n",
            "5  0.007576  0.122719     0.020202     0.744493         0.724291  \n",
            "6  0.040404  0.114537     0.060606     0.859031         0.798425  \n",
            "7  0.128788  0.093140     0.189394     0.952171         0.762777  \n",
            "8  0.335859  0.040906     0.525253     0.993077         0.467825  \n",
            "9  0.474747  0.006923     1.000000     1.000000         0.000000  \n"
          ],
          "name": "stdout"
        },
        {
          "output_type": "execute_result",
          "data": {
            "text/html": [
              "<div>\n",
              "<style scoped>\n",
              "    .dataframe tbody tr th:only-of-type {\n",
              "        vertical-align: middle;\n",
              "    }\n",
              "\n",
              "    .dataframe tbody tr th {\n",
              "        vertical-align: top;\n",
              "    }\n",
              "\n",
              "    .dataframe thead th {\n",
              "        text-align: right;\n",
              "    }\n",
              "</style>\n",
              "<table border=\"1\" class=\"dataframe\">\n",
              "  <thead>\n",
              "    <tr style=\"text-align: right;\">\n",
              "      <th></th>\n",
              "      <th>Model</th>\n",
              "      <th>KS</th>\n",
              "      <th>AUC</th>\n",
              "      <th>GINI</th>\n",
              "    </tr>\n",
              "  </thead>\n",
              "  <tbody>\n",
              "    <tr>\n",
              "      <th>0</th>\n",
              "      <td>RFM</td>\n",
              "      <td>79.842</td>\n",
              "      <td>0.963295</td>\n",
              "      <td>0.92659</td>\n",
              "    </tr>\n",
              "  </tbody>\n",
              "</table>\n",
              "</div>"
            ],
            "text/plain": [
              "  Model      KS       AUC     GINI\n",
              "0  RFM   79.842  0.963295  0.92659"
            ]
          },
          "metadata": {
            "tags": []
          },
          "execution_count": 7
        }
      ]
    },
    {
      "cell_type": "code",
      "metadata": {
        "id": "nhSDhCiHe4-N",
        "colab_type": "code",
        "outputId": "3767b997-ff4c-4629-898c-380b3cc5ddea",
        "colab": {
          "base_uri": "https://localhost:8080/",
          "height": 523
        }
      },
      "source": [
        "data.model_performance_plot('ROC_CURVE',y_test.tolist(),{'GBM':pred_test})"
      ],
      "execution_count": 0,
      "outputs": [
        {
          "output_type": "display_data",
          "data": {
            "image/png": "[encoded data removed]",
            "text/plain": [
              "<Figure size 576x576 with 1 Axes>"
            ]
          },
          "metadata": {
            "tags": []
          }
        }
      ]
    },
    {
      "cell_type": "code",
      "metadata": {
        "id": "xYSLewalfKSp",
        "colab_type": "code",
        "outputId": "787bdd51-9fc1-40c0-c1c7-880ec99a194b",
        "colab": {
          "base_uri": "https://localhost:8080/",
          "height": 523
        }
      },
      "source": [
        "data.model_performance_plot('PR_CURVE',y_test.tolist(),{'GBM':pred_test})"
      ],
      "execution_count": 0,
      "outputs": [
        {
          "output_type": "display_data",
          "data": {
            "image/png": "[encoded data removed]",
            "text/plain": [
              "<Figure size 576x576 with 1 Axes>"
            ]
          },
          "metadata": {
            "tags": []
          }
        }
      ]
    },
    {
      "cell_type": "code",
      "metadata": {
        "id": "k-q3jPcefq4m",
        "colab_type": "code",
        "outputId": "1ad8e229-eb36-4757-a69a-549e48350286",
        "colab": {
          "base_uri": "https://localhost:8080/",
          "height": 343
        }
      },
      "source": [
        "data.model_performance_plot('SEPARATION_CURVE',y_test.tolist(),{'RFM':pred_test})"
      ],
      "execution_count": 0,
      "outputs": [
        {
          "output_type": "display_data",
          "data": {
            "image/png": "[encoded data removed]",
            "text/plain": [
              "<Figure size 1080x360 with 1 Axes>"
            ]
          },
          "metadata": {
            "tags": []
          }
        }
      ]
    },
    {
      "cell_type": "code",
      "metadata": {
        "id": "UDFaRRQ8fugY",
        "colab_type": "code",
        "outputId": "c5a68e10-3502-4784-9936-63a440b81955",
        "colab": {
          "base_uri": "https://localhost:8080/",
          "height": 669,
          "referenced_widgets": [
            "9a89fb01e3b7456eb90b17cb94636f3a",
            "4dc9907da17e41ec8134ec46feafa529",
            "c083605dd326425a992d1f8b8eb033ca",
            "7ef42e0732d04e92a7bb1ad1b466a43b",
            "f8393589a96744f48c7541704e5209f3",
            "1c07f479b93845818f6f185be00d0036",
            "3f8add9ef6424a3fbfe7bb4cc95e739c",
            "79fa4d9a8c934aceab1093320a48bae8",
            "5f07b422091540978bf4fb1516ff40c5",
            "276e6afd7ab9423b9c2b9b872c5a5d03"
          ]
        }
      },
      "source": [
        "test = Utils()\n",
        "test.confusion_matrix(y_test.tolist(),pred_test)"
      ],
      "execution_count": 0,
      "outputs": [
        {
          "output_type": "stream",
          "text": [
            " REPOSITORY\n",
            "            1. confusion_matrix_report\n",
            "            2. print_model_feature_importance\n",
            "            3. cheat_sheet\n",
            "                A. 'basic_model'\n",
            "                B. 'grid_search'\n",
            "                C. 'tree_params' \n"
          ],
          "name": "stdout"
        },
        {
          "output_type": "display_data",
          "data": {
            "application/vnd.jupyter.widget-view+json": {
              "model_id": "9a89fb01e3b7456eb90b17cb94636f3a",
              "version_minor": 0,
              "version_major": 2
            },
            "text/plain": [
              "interactive(children=(Dropdown(description='threshold', index=49, options=(0.01, 0.02, 0.03, 0.04, 0.05, 0.06,…"
            ]
          },
          "metadata": {
            "tags": []
          }
        },
        {
          "output_type": "display_data",
          "data": {
            "text/plain": [
              "<function __main__.Utils.confusion_matrix.<locals>.con_mat>"
            ]
          },
          "metadata": {
            "tags": []
          }
        }
      ]
    },
    {
      "cell_type": "code",
      "metadata": {
        "id": "5RDCvVBhhBMP",
        "colab_type": "code",
        "colab": {}
      },
      "source": [
        ""
      ],
      "execution_count": 0,
      "outputs": []
    }
  ]
}