{
  "nbformat": 4,
  "nbformat_minor": 0,
  "metadata": {
    "colab": {
      "name": "Statistics.ipynb",
      "provenance": [],
      "collapsed_sections": [],
      "authorship_tag": "ABX9TyMt+qmz2FMFLknVG4WuYXVY",
      "include_colab_link": true
    },
    "kernelspec": {
      "name": "python3",
      "display_name": "Python 3"
    }
  },
  "cells": [
    {
      "cell_type": "markdown",
      "metadata": {
        "id": "view-in-github",
        "colab_type": "text"
      },
      "source": [
        "<a href=\"https://colab.research.google.com/github/csingh1992/Modules1/blob/master/Statistics.ipynb\" target=\"_parent\"><img src=\"https://colab.research.google.com/assets/colab-badge.svg\" alt=\"Open In Colab\"/></a>"
      ]
    },
    {
      "cell_type": "code",
      "metadata": {
        "id": "8PiaUbqVvPhU",
        "colab_type": "code",
        "colab": {}
      },
      "source": [
        "\"\"\"\n",
        "Statistics\n",
        "\n",
        "1. Basic Statistics \n",
        "2. Linear Regression \n",
        "3. Logistic Regression \n",
        "4. Decision Trees\n",
        "5. Segmentation using CHAID/CART\n",
        "6. Boosted Trees (Along with Theory)\n",
        "7. Time Series (Basic + Advanced) \n",
        "8. KMeans and KNN \n",
        "\"\"\""
      ],
      "execution_count": 0,
      "outputs": []
    },
    {
      "cell_type": "code",
      "metadata": {
        "id": "80-X73kXPnjr",
        "colab_type": "code",
        "colab": {}
      },
      "source": [
        "\"\"\"\n",
        "STATISTICS\n",
        "Important Topics to be covered\n",
        "\n",
        "* Hypothesis Testing [Su]\n",
        "\n",
        "7. Boxplots \n",
        "8. Population Distribution and Sample Distribution\n",
        "9. Skewness and Kurtosis (How to define these and what importance do these have)\n",
        "1. Law of Large Numbers [Probability Puzzle]\n",
        "2. Central Limit Theorem [Very Good Example through a code]\n",
        "10. Probability Schools of Thought (Classical, Frequentist, Bayesian )\n",
        "\n",
        "## DAY 02\n",
        "3. Random Variable\n",
        "4. Discrete vs Continuous PD\n",
        "5. Types of PD (Explained using Parameters)\n",
        "6. Popular Use cases and Interconvertibility\n",
        "\n",
        "\"\"\""
      ],
      "execution_count": 0,
      "outputs": []
    },
    {
      "cell_type": "code",
      "metadata": {
        "id": "PY_T_TdElnK1",
        "colab_type": "code",
        "colab": {
          "base_uri": "https://localhost:8080/",
          "height": 680
        },
        "outputId": "29e62c31-6702-4f41-b0f0-772ca04d74a3"
      },
      "source": [
        "## CLT\n",
        "\"\"\"\n",
        "Sampling: Population and Random Sample \n",
        "\n",
        "Population --> PopD (Population Dist) --> Normal/Non-Normal\n",
        "Sample --> Mean --> Mean Distribution --> Normal\n",
        "Sample Mean = Population Mean \n",
        "Sample Var = Population Variance/Sample Size \n",
        "\n",
        "\"\"\"\n",
        "x3 = [np.log(i) for i in x1]\n",
        "sample_mean = []\n",
        "i = 0\n",
        "while i<1000:\n",
        "  order = np.random.permutation(x3)\n",
        "  order = list(order)[:1000]\n",
        "  sample_mean.append(np.mean(order))\n",
        "  i = i+1\n",
        "\n",
        "fig, axes =  plt.subplots(1,2, figsize=(12,5))\n",
        "axes[0].hist(x3,bins=50,density=True)\n",
        "axes[1].hist(sample_mean,bins=50,density=True)\n",
        "axes[0].plot(kind='line',x=np.mean(x3))\n",
        "axes[1].plot(kind='line',x=np.mean(sample_mean))\n",
        "plt.show()"
      ],
      "execution_count": 54,
      "outputs": [
        {
          "output_type": "error",
          "ename": "TypeError",
          "evalue": "ignored",
          "traceback": [
            "\u001b[0;31m---------------------------------------------------------------------------\u001b[0m",
            "\u001b[0;31mTypeError\u001b[0m                                 Traceback (most recent call last)",
            "\u001b[0;32m<ipython-input-54-a49565ffe629>\u001b[0m in \u001b[0;36m<module>\u001b[0;34m()\u001b[0m\n\u001b[1;32m     20\u001b[0m \u001b[0maxes\u001b[0m\u001b[0;34m[\u001b[0m\u001b[0;36m0\u001b[0m\u001b[0;34m]\u001b[0m\u001b[0;34m.\u001b[0m\u001b[0mhist\u001b[0m\u001b[0;34m(\u001b[0m\u001b[0mx3\u001b[0m\u001b[0;34m,\u001b[0m\u001b[0mbins\u001b[0m\u001b[0;34m=\u001b[0m\u001b[0;36m50\u001b[0m\u001b[0;34m,\u001b[0m\u001b[0mdensity\u001b[0m\u001b[0;34m=\u001b[0m\u001b[0;32mTrue\u001b[0m\u001b[0;34m)\u001b[0m\u001b[0;34m\u001b[0m\u001b[0;34m\u001b[0m\u001b[0m\n\u001b[1;32m     21\u001b[0m \u001b[0maxes\u001b[0m\u001b[0;34m[\u001b[0m\u001b[0;36m1\u001b[0m\u001b[0;34m]\u001b[0m\u001b[0;34m.\u001b[0m\u001b[0mhist\u001b[0m\u001b[0;34m(\u001b[0m\u001b[0msample_mean\u001b[0m\u001b[0;34m,\u001b[0m\u001b[0mbins\u001b[0m\u001b[0;34m=\u001b[0m\u001b[0;36m50\u001b[0m\u001b[0;34m,\u001b[0m\u001b[0mdensity\u001b[0m\u001b[0;34m=\u001b[0m\u001b[0;32mTrue\u001b[0m\u001b[0;34m)\u001b[0m\u001b[0;34m\u001b[0m\u001b[0;34m\u001b[0m\u001b[0m\n\u001b[0;32m---> 22\u001b[0;31m \u001b[0maxes\u001b[0m\u001b[0;34m[\u001b[0m\u001b[0;36m0\u001b[0m\u001b[0;34m]\u001b[0m\u001b[0;34m.\u001b[0m\u001b[0mplot\u001b[0m\u001b[0;34m(\u001b[0m\u001b[0mkind\u001b[0m\u001b[0;34m=\u001b[0m\u001b[0;34m'line'\u001b[0m\u001b[0;34m,\u001b[0m\u001b[0mx\u001b[0m\u001b[0;34m=\u001b[0m\u001b[0mnp\u001b[0m\u001b[0;34m.\u001b[0m\u001b[0mmean\u001b[0m\u001b[0;34m(\u001b[0m\u001b[0mx3\u001b[0m\u001b[0;34m)\u001b[0m\u001b[0;34m)\u001b[0m\u001b[0;34m\u001b[0m\u001b[0;34m\u001b[0m\u001b[0m\n\u001b[0m\u001b[1;32m     23\u001b[0m \u001b[0maxes\u001b[0m\u001b[0;34m[\u001b[0m\u001b[0;36m1\u001b[0m\u001b[0;34m]\u001b[0m\u001b[0;34m.\u001b[0m\u001b[0mplot\u001b[0m\u001b[0;34m(\u001b[0m\u001b[0mkind\u001b[0m\u001b[0;34m=\u001b[0m\u001b[0;34m'line'\u001b[0m\u001b[0;34m,\u001b[0m\u001b[0mx\u001b[0m\u001b[0;34m=\u001b[0m\u001b[0mnp\u001b[0m\u001b[0;34m.\u001b[0m\u001b[0mmean\u001b[0m\u001b[0;34m(\u001b[0m\u001b[0msample_mean\u001b[0m\u001b[0;34m)\u001b[0m\u001b[0;34m)\u001b[0m\u001b[0;34m\u001b[0m\u001b[0;34m\u001b[0m\u001b[0m\n\u001b[1;32m     24\u001b[0m \u001b[0mplt\u001b[0m\u001b[0;34m.\u001b[0m\u001b[0mshow\u001b[0m\u001b[0;34m(\u001b[0m\u001b[0;34m)\u001b[0m\u001b[0;34m\u001b[0m\u001b[0;34m\u001b[0m\u001b[0m\n",
            "\u001b[0;32m/usr/local/lib/python3.6/dist-packages/matplotlib/axes/_axes.py\u001b[0m in \u001b[0;36mplot\u001b[0;34m(self, scalex, scaley, data, *args, **kwargs)\u001b[0m\n\u001b[1;32m   1644\u001b[0m         \"\"\"\n\u001b[1;32m   1645\u001b[0m         \u001b[0mkwargs\u001b[0m \u001b[0;34m=\u001b[0m \u001b[0mcbook\u001b[0m\u001b[0;34m.\u001b[0m\u001b[0mnormalize_kwargs\u001b[0m\u001b[0;34m(\u001b[0m\u001b[0mkwargs\u001b[0m\u001b[0;34m,\u001b[0m \u001b[0mmlines\u001b[0m\u001b[0;34m.\u001b[0m\u001b[0mLine2D\u001b[0m\u001b[0;34m)\u001b[0m\u001b[0;34m\u001b[0m\u001b[0;34m\u001b[0m\u001b[0m\n\u001b[0;32m-> 1646\u001b[0;31m         \u001b[0mlines\u001b[0m \u001b[0;34m=\u001b[0m \u001b[0;34m[\u001b[0m\u001b[0;34m*\u001b[0m\u001b[0mself\u001b[0m\u001b[0;34m.\u001b[0m\u001b[0m_get_lines\u001b[0m\u001b[0;34m(\u001b[0m\u001b[0;34m*\u001b[0m\u001b[0margs\u001b[0m\u001b[0;34m,\u001b[0m \u001b[0mdata\u001b[0m\u001b[0;34m=\u001b[0m\u001b[0mdata\u001b[0m\u001b[0;34m,\u001b[0m \u001b[0;34m**\u001b[0m\u001b[0mkwargs\u001b[0m\u001b[0;34m)\u001b[0m\u001b[0;34m]\u001b[0m\u001b[0;34m\u001b[0m\u001b[0;34m\u001b[0m\u001b[0m\n\u001b[0m\u001b[1;32m   1647\u001b[0m         \u001b[0;32mfor\u001b[0m \u001b[0mline\u001b[0m \u001b[0;32min\u001b[0m \u001b[0mlines\u001b[0m\u001b[0;34m:\u001b[0m\u001b[0;34m\u001b[0m\u001b[0;34m\u001b[0m\u001b[0m\n\u001b[1;32m   1648\u001b[0m             \u001b[0mself\u001b[0m\u001b[0;34m.\u001b[0m\u001b[0madd_line\u001b[0m\u001b[0;34m(\u001b[0m\u001b[0mline\u001b[0m\u001b[0;34m)\u001b[0m\u001b[0;34m\u001b[0m\u001b[0;34m\u001b[0m\u001b[0m\n",
            "\u001b[0;32m/usr/local/lib/python3.6/dist-packages/matplotlib/axes/_base.py\u001b[0m in \u001b[0;36m__call__\u001b[0;34m(self, *args, **kwargs)\u001b[0m\n\u001b[1;32m    157\u001b[0m             \u001b[0;32mif\u001b[0m \u001b[0mpos_only\u001b[0m \u001b[0;32min\u001b[0m \u001b[0mkwargs\u001b[0m\u001b[0;34m:\u001b[0m\u001b[0;34m\u001b[0m\u001b[0;34m\u001b[0m\u001b[0m\n\u001b[1;32m    158\u001b[0m                 raise TypeError(\"{} got an unexpected keyword argument {!r}\"\n\u001b[0;32m--> 159\u001b[0;31m                                 .format(self.command, pos_only))\n\u001b[0m\u001b[1;32m    160\u001b[0m \u001b[0;34m\u001b[0m\u001b[0m\n\u001b[1;32m    161\u001b[0m         \u001b[0;32mif\u001b[0m \u001b[0;32mnot\u001b[0m \u001b[0margs\u001b[0m\u001b[0;34m:\u001b[0m\u001b[0;34m\u001b[0m\u001b[0;34m\u001b[0m\u001b[0m\n",
            "\u001b[0;31mTypeError\u001b[0m: plot got an unexpected keyword argument 'x'"
          ]
        },
        {
          "output_type": "display_data",
          "data": {
            "image/png": "[encoded data removed]",
            "text/plain": [
              "<Figure size 864x360 with 2 Axes>"
            ]
          },
          "metadata": {
            "tags": []
          }
        }
      ]
    },
    {
      "cell_type": "code",
      "metadata": {
        "id": "hEvk4aokQy1x",
        "colab_type": "code",
        "colab": {}
      },
      "source": [
        "import pandas as pd\n",
        "import numpy as np\n",
        "import seaborn as sns\n",
        "import matplotlib.pyplot as plt\n",
        "import warnings\n",
        "\n",
        "warnings.filterwarnings(\"ignore\")\n",
        "\n",
        "pd.set_option('display.max_columns',200)\n",
        "pd.set_option('display.max_rows',1000)"
      ],
      "execution_count": 0,
      "outputs": []
    },
    {
      "cell_type": "code",
      "metadata": {
        "id": "Qu86ZDGmR0h_",
        "colab_type": "code",
        "colab": {
          "base_uri": "https://localhost:8080/",
          "height": 142
        },
        "outputId": "cfe54090-7a20-4f7d-a4e5-1c92c7ef5f91"
      },
      "source": [
        "##READING DATA FROM CSV\n",
        "\n",
        "\"\"\"\n",
        "Loading Data from Github: If less than 25 MB than simply open the csv file on Github, \n",
        "Click on Raw and open the raw CSV file link in the new tab\n",
        "once in the new tab, then copy the URL and read the CSV \n",
        "\"\"\"\n",
        "\n",
        "hmeq_csv_url = r\"https://raw.githubusercontent.com/Carl-Lejerskar/HMEQ/master/hmeq.csv\"\n",
        "DF = pd.read_csv(hmeq_csv_url)\n",
        "DF.head(3)"
      ],
      "execution_count": 3,
      "outputs": [
        {
          "output_type": "execute_result",
          "data": {
            "text/html": [
              "<div>\n",
              "<style scoped>\n",
              "    .dataframe tbody tr th:only-of-type {\n",
              "        vertical-align: middle;\n",
              "    }\n",
              "\n",
              "    .dataframe tbody tr th {\n",
              "        vertical-align: top;\n",
              "    }\n",
              "\n",
              "    .dataframe thead th {\n",
              "        text-align: right;\n",
              "    }\n",
              "</style>\n",
              "<table border=\"1\" class=\"dataframe\">\n",
              "  <thead>\n",
              "    <tr style=\"text-align: right;\">\n",
              "      <th></th>\n",
              "      <th>BAD</th>\n",
              "      <th>LOAN</th>\n",
              "      <th>MORTDUE</th>\n",
              "      <th>VALUE</th>\n",
              "      <th>REASON</th>\n",
              "      <th>JOB</th>\n",
              "      <th>YOJ</th>\n",
              "      <th>DEROG</th>\n",
              "      <th>DELINQ</th>\n",
              "      <th>CLAGE</th>\n",
              "      <th>NINQ</th>\n",
              "      <th>CLNO</th>\n",
              "      <th>DEBTINC</th>\n",
              "    </tr>\n",
              "  </thead>\n",
              "  <tbody>\n",
              "    <tr>\n",
              "      <th>0</th>\n",
              "      <td>1</td>\n",
              "      <td>1100</td>\n",
              "      <td>25860.0</td>\n",
              "      <td>39025.0</td>\n",
              "      <td>HomeImp</td>\n",
              "      <td>Other</td>\n",
              "      <td>10.5</td>\n",
              "      <td>0.0</td>\n",
              "      <td>0.0</td>\n",
              "      <td>94.366667</td>\n",
              "      <td>1.0</td>\n",
              "      <td>9.0</td>\n",
              "      <td>NaN</td>\n",
              "    </tr>\n",
              "    <tr>\n",
              "      <th>1</th>\n",
              "      <td>1</td>\n",
              "      <td>1300</td>\n",
              "      <td>70053.0</td>\n",
              "      <td>68400.0</td>\n",
              "      <td>HomeImp</td>\n",
              "      <td>Other</td>\n",
              "      <td>7.0</td>\n",
              "      <td>0.0</td>\n",
              "      <td>2.0</td>\n",
              "      <td>121.833333</td>\n",
              "      <td>0.0</td>\n",
              "      <td>14.0</td>\n",
              "      <td>NaN</td>\n",
              "    </tr>\n",
              "    <tr>\n",
              "      <th>2</th>\n",
              "      <td>1</td>\n",
              "      <td>1500</td>\n",
              "      <td>13500.0</td>\n",
              "      <td>16700.0</td>\n",
              "      <td>HomeImp</td>\n",
              "      <td>Other</td>\n",
              "      <td>4.0</td>\n",
              "      <td>0.0</td>\n",
              "      <td>0.0</td>\n",
              "      <td>149.466667</td>\n",
              "      <td>1.0</td>\n",
              "      <td>10.0</td>\n",
              "      <td>NaN</td>\n",
              "    </tr>\n",
              "  </tbody>\n",
              "</table>\n",
              "</div>"
            ],
            "text/plain": [
              "   BAD  LOAN  MORTDUE    VALUE   REASON    JOB   YOJ  DEROG  DELINQ  \\\n",
              "0    1  1100  25860.0  39025.0  HomeImp  Other  10.5    0.0     0.0   \n",
              "1    1  1300  70053.0  68400.0  HomeImp  Other   7.0    0.0     2.0   \n",
              "2    1  1500  13500.0  16700.0  HomeImp  Other   4.0    0.0     0.0   \n",
              "\n",
              "        CLAGE  NINQ  CLNO  DEBTINC  \n",
              "0   94.366667   1.0   9.0      NaN  \n",
              "1  121.833333   0.0  14.0      NaN  \n",
              "2  149.466667   1.0  10.0      NaN  "
            ]
          },
          "metadata": {
            "tags": []
          },
          "execution_count": 3
        }
      ]
    },
    {
      "cell_type": "code",
      "metadata": {
        "id": "rcRW6DyWSNps",
        "colab_type": "code",
        "colab": {
          "base_uri": "https://localhost:8080/",
          "height": 255
        },
        "outputId": "e8447ad6-ea02-4870-c584-56899c506315"
      },
      "source": [
        "DF.count()/len(DF)"
      ],
      "execution_count": 4,
      "outputs": [
        {
          "output_type": "execute_result",
          "data": {
            "text/plain": [
              "BAD        1.000000\n",
              "LOAN       1.000000\n",
              "MORTDUE    0.913087\n",
              "VALUE      0.981208\n",
              "REASON     0.957718\n",
              "JOB        0.953188\n",
              "YOJ        0.913591\n",
              "DEROG      0.881208\n",
              "DELINQ     0.902685\n",
              "CLAGE      0.948322\n",
              "NINQ       0.914430\n",
              "CLNO       0.962752\n",
              "DEBTINC    0.787416\n",
              "dtype: float64"
            ]
          },
          "metadata": {
            "tags": []
          },
          "execution_count": 4
        }
      ]
    },
    {
      "cell_type": "code",
      "metadata": {
        "id": "zi1GSCGrUE-L",
        "colab_type": "code",
        "colab": {
          "base_uri": "https://localhost:8080/",
          "height": 374
        },
        "outputId": "b7bba75a-12f7-4c5a-f7e9-b6363d5e7f56"
      },
      "source": [
        "\"\"\"\n",
        "1. Measures of Central Tendency [Su]\n",
        "  > Mean \n",
        "  > Median\n",
        "  > Mode\n",
        "  > Variance\n",
        "  > Skewness\n",
        "  > Kurtosis\n",
        "\"\"\"\n",
        "\n",
        "### VOILIN PLOTS\n",
        "### Case Studies/ Puzzles/Questions \n",
        "\n",
        "\n",
        "##BOXPLOT: What all can you gather?  \n",
        "## Skewness of the Data: Right Skewed (Positive Skew) [Median is closer to Q3 vs Q1]\n",
        "\"\"\"\n",
        "Boxplot: 5 Number Summary\n",
        "1. Minimum (Appears as Whiskers)\n",
        "2. Q1: P25\n",
        "3. Q2: P50 (Median)\n",
        "4. Q3: P75 \n",
        "5. Maximum (Appears as Whiskers)\n",
        "\n",
        "IQR = Q3-Q1\n",
        "\n",
        "Minimum (boxplot) = Max(min of data, Q1-1.5*IQR)\n",
        "\n",
        "Usually, within boxplots  Minimum = Q1-1.5*IQR and  Maximum: Q3+1.5*IQR [Su]\n",
        "Rest everything is called outliers (dots on the Boxplots). You can also decide outliers on the basis\n",
        "of P99, P1 etc. [Usually left to the reader]\n",
        "\"\"\"\n",
        "\n",
        "\"\"\"\n",
        "[Su]: Is there a way to print the 5 number summary?\n",
        "\"\"\"\n",
        "sns.set(rc={'figure.figsize':(2,6)})\n",
        "sns.boxplot(y='LOAN', data=DF)"
      ],
      "execution_count": 33,
      "outputs": [
        {
          "output_type": "execute_result",
          "data": {
            "text/plain": [
              "<matplotlib.axes._subplots.AxesSubplot at 0x7f40c6734a58>"
            ]
          },
          "metadata": {
            "tags": []
          },
          "execution_count": 33
        },
        {
          "output_type": "display_data",
          "data": {
            "image/png": "[encoded data removed]",
            "text/plain": [
              "<Figure size 144x432 with 1 Axes>"
            ]
          },
          "metadata": {
            "tags": []
          }
        }
      ]
    },
    {
      "cell_type": "code",
      "metadata": {
        "id": "Vxk7AjJjUof0",
        "colab_type": "code",
        "colab": {}
      },
      "source": [
        "\"\"\"\n",
        "SKEWNESS: Left vs Right, Negative vs Positive\n",
        "\"\"\"\n",
        "from scipy.stats import skew "
      ],
      "execution_count": 0,
      "outputs": []
    },
    {
      "cell_type": "code",
      "metadata": {
        "id": "YnagPu5Of1fS",
        "colab_type": "code",
        "colab": {
          "base_uri": "https://localhost:8080/",
          "height": 322
        },
        "outputId": "e9b5940e-f7d2-4e73-efd2-7d8d71f187a4"
      },
      "source": [
        "##CREATING DISTRIBUTIONS\n",
        "\n",
        "## NORMAL\n",
        "x1  = np.random.normal(1, 0.2, 10000)\n",
        "## SQUARED NORMAL (CHI-SQUARE)\n",
        "x2 = [i**2 for i in x1]\n",
        "## LOGNORMAL\n",
        "x3 = [np.log(i) for i in x1]\n",
        "\n",
        "fig, axes =  plt.subplots(1,3, figsize=(18,5), sharey=True)\n",
        "axes[0].hist(x1,bins=50,density=True)\n",
        "axes[1].hist(x2,bins=50,density=True)\n",
        "axes[2].hist(x3,bins=50,density=True)\n",
        "plt.show()\n",
        "\n",
        "\n",
        "##> Calculate the Skew (Pandas and otherwise)\n",
        "##> Boxplots (Below) [How does it differ from each other]\n",
        "##> Title to the graphs \n"
      ],
      "execution_count": 47,
      "outputs": [
        {
          "output_type": "display_data",
          "data": {
            "image/png": "[encoded data removed]",
            "text/plain": [
              "<Figure size 1296x360 with 3 Axes>"
            ]
          },
          "metadata": {
            "tags": []
          }
        }
      ]
    },
    {
      "cell_type": "code",
      "metadata": {
        "id": "QWuBi6NMzT-1",
        "colab_type": "code",
        "colab": {}
      },
      "source": [
        "## Skewness vs Kurtosis\n",
        "## Types of Kurtosis and its business angle (Finance of Rare Fat Tail Events)"
      ],
      "execution_count": 0,
      "outputs": []
    },
    {
      "cell_type": "markdown",
      "metadata": {
        "id": "8m-4HEZBmSjI",
        "colab_type": "text"
      },
      "source": [
        ""
      ]
    },
    {
      "cell_type": "code",
      "metadata": {
        "id": "rTSM0d5UlYxe",
        "colab_type": "code",
        "colab": {}
      },
      "source": [
        "https://towardsdatascience.com/transforming-skewed-data-73da4c2d0d16"
      ],
      "execution_count": 0,
      "outputs": []
    },
    {
      "cell_type": "code",
      "metadata": {
        "id": "GBbYeOusgHkS",
        "colab_type": "code",
        "colab": {}
      },
      "source": [
        ""
      ],
      "execution_count": 0,
      "outputs": []
    }
  ]
}